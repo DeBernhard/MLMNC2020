{
 "cells": [
  {
   "cell_type": "markdown",
   "metadata": {
    "slideshow": {
     "slide_type": "slide"
    }
   },
   "source": [
    "# Pre-Class Test"
   ]
  },
  {
   "cell_type": "markdown",
   "metadata": {
    "slideshow": {
     "slide_type": "slide"
    }
   },
   "source": [
    "## Machine Learning is often used in the following scenarios\n",
    "- [ ] Fluctuating environments where a Machine Learning system can adapt to new data.\n",
    "- [ ] A Machine Learning system is used to gain insights about complex problems.\n",
    "- [ ] Situations where creating or maintaining manual rule sets is not feasible.\n",
    "- [ ] There is little to no data because a powerful learning algorithm can derive information even when there is no data available.\n"
   ]
  },
  {
   "cell_type": "markdown",
   "metadata": {
    "slideshow": {
     "slide_type": "slide"
    }
   },
   "source": [
    "## Name three challenges when developing a Machine Learning system\n",
    "\n",
    "- ...\n",
    "- ...\n",
    "- ..."
   ]
  },
  {
   "cell_type": "markdown",
   "metadata": {
    "slideshow": {
     "slide_type": "slide"
    }
   },
   "source": [
    "## Machine Learning glossary\n",
    "Form pairs from terms that are synonyms (one word does not fit in):\n",
    "- Train\n",
    "- Input\n",
    "- Response\n",
    "- Predictor\n",
    "- Output\n",
    "- Fit\n",
    "- Model\n"
   ]
  },
  {
   "cell_type": "markdown",
   "metadata": {
    "slideshow": {
     "slide_type": "slide"
    }
   },
   "source": [
    "## Given a data set, how do you use it to create a Machine Learning system?\n",
    "\n",
    "- [ ] I use all the data to make sure the model extracts every piece of information.\n",
    "- [ ] I split the data into a training and a test set to train and evaluate the model respectively.\n",
    "- [ ] I use cross-validation to train and evaluate the model on different subsets of the data.\n"
   ]
  },
  {
   "cell_type": "markdown",
   "metadata": {
    "slideshow": {
     "slide_type": "slide"
    }
   },
   "source": [
    "## Your model performs great on the training data but poorly on new data. What is a likely cause?\n",
    "- [ ] The model was not able to capture the input-output relationship in our system.\n",
    "- [ ] The model overfitted the training data and does therefore not generalize.\n",
    "- [ ] A wrong type of model was chosen, such a situation requires a neural network.\n"
   ]
  },
  {
   "cell_type": "markdown",
   "metadata": {
    "slideshow": {
     "slide_type": "slide"
    }
   },
   "source": [
    "## Your model performs poorly on the training data. What can be a cause?\n",
    "- [ ] There may be no systematic relationship between the input and the response data.\n",
    "- [ ] This question is only hypothetical.\n",
    "- [ ] The model is overfitting, performance on the test data can still be good.\n",
    "- [ ] The model is not able to capture the assumed relationship between  input-output-relationship.\n"
   ]
  },
  {
   "cell_type": "markdown",
   "metadata": {
    "slideshow": {
     "slide_type": "slide"
    }
   },
   "source": [
    "## What is a typical choice for a train-test-data-split?\n",
    "- [ ] 10% training, 90% test\n",
    "- [ ] 70% training, 30% test\n",
    "- [ ] The optimal ratio needs to be determined from the data."
   ]
  },
  {
   "cell_type": "markdown",
   "metadata": {
    "slideshow": {
     "slide_type": "slide"
    }
   },
   "source": [
    "## Supervised and unsupervised learning\n",
    "- [ ] Classification and clustering refer to unsupervised learning tasks.\n",
    "- [ ] Regression is a supervised learning task.\n",
    "- [ ] Given advertisement budgets and sales figures, one uses clustering to predict how sales depend on advertisement.\n",
    "- [ ] Predicting whether an email is spam or not is a classification task.\n",
    "- [ ] The performance of supervised learning methods can be evaluated on a test set.\n"
   ]
  },
  {
   "cell_type": "markdown",
   "metadata": {
    "slideshow": {
     "slide_type": "slide"
    }
   },
   "source": [
    "## Explain $Y = f(X) + \\epsilon$ and $\\hat{Y} = \\hat{f}(X)$\n",
    "\n",
    "Below plot displays sales of a product as a function of TV advertising budget for 200 different markets.\n",
    "\n",
    "Explain how every element in the plot relates to each element (apart from $\\epsilon$) in the above equations. You may draw arrows to do so.\n",
    "\n",
    "<img src=\"../images/pre_class/explain_equations.png\" alt=\"Explain equations\" width=\"300\">\n"
   ]
  },
  {
   "cell_type": "markdown",
   "metadata": {
    "slideshow": {
     "slide_type": "slide"
    }
   },
   "source": [
    "## Describe Model Fit\n",
    "\n",
    "Below plot displays data simulated from some relationship $f$ as well as three different estimates $\\hat{f}$.\n",
    "\n",
    "For each estimate, describe how the model performs by annotating the arrows.\n",
    "\n",
    "<img src=\"../images/pre_class/describe_fit.png\" alt=\"Describe fit\" width=\"400\">"
   ]
  },
  {
   "cell_type": "markdown",
   "metadata": {
    "slideshow": {
     "slide_type": "slide"
    }
   },
   "source": [
    "## Instance-Based Classification\n",
    "\n",
    "Below plot displays two different classes as well as three yet unclassified new instances depicted as crosses.\n",
    "For each instance, annotate to which class it belongs by considering its immediate neighbours and and describe your confidence in your decision.\n",
    "In addition, draw a line to separate the red and the blue class.\n",
    "\n",
    "<img src=\"../images/pre_class/instance_based_classification.png\" alt=\"Instance-based classification\" width=\"400\">\n"
   ]
  }
 ],
 "metadata": {
  "celltoolbar": "Slideshow",
  "kernelspec": {
   "display_name": "Python 3",
   "language": "python",
   "name": "python3"
  },
  "language_info": {
   "codemirror_mode": {
    "name": "ipython",
    "version": 3
   },
   "file_extension": ".py",
   "mimetype": "text/x-python",
   "name": "python",
   "nbconvert_exporter": "python",
   "pygments_lexer": "ipython3",
   "version": "3.8.5"
  }
 },
 "nbformat": 4,
 "nbformat_minor": 4
}
