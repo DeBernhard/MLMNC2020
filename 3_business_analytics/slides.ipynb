{
 "cells": [
  {
   "cell_type": "markdown",
   "metadata": {
    "slideshow": {
     "slide_type": "slide"
    }
   },
   "source": [
    "# Completing the Picture\n",
    "\n",
    "*Recap, outline and missing pieces*"
   ]
  },
  {
   "cell_type": "markdown",
   "metadata": {
    "slideshow": {
     "slide_type": "subslide"
    }
   },
   "source": [
    "## What you have seen already"
   ]
  },
  {
   "cell_type": "markdown",
   "metadata": {
    "slideshow": {
     "slide_type": "fragment"
    }
   },
   "source": [
    "- A business analytics use case:\n",
    "  - Better understand a problem (how spending affects sales) --> *Inference*\n",
    "  - Make a prediction (predict sales given budget) --> *Prediction*\n",
    "  - Data driven decision support (how do we spend our budget) --> *Decision making*\n",
    "  \n",
    "- Some important concepts"
   ]
  },
  {
   "cell_type": "markdown",
   "metadata": {
    "slideshow": {
     "slide_type": "subslide"
    }
   },
   "source": [
    "## What we plan to do\n",
    "\n",
    "*Upcoming sessions*"
   ]
  },
  {
   "cell_type": "markdown",
   "metadata": {
    "slideshow": {
     "slide_type": "fragment"
    }
   },
   "source": [
    "Today:\n",
    "- Complete the picture\n",
    "- Review exercerises\n",
    "- Answer questions\n",
    "- Revisit learnings"
   ]
  },
  {
   "cell_type": "markdown",
   "metadata": {
    "slideshow": {
     "slide_type": "fragment"
    }
   },
   "source": [
    "Next time:\n",
    "- Review exercises\n",
    "- Answer questions\n",
    "- Introduce a few more important concepts and methods\n",
    "- Present group projects"
   ]
  },
  {
   "cell_type": "markdown",
   "metadata": {
    "slideshow": {
     "slide_type": "subslide"
    }
   },
   "source": [
    "6th session:\n",
    "- Case studies"
   ]
  },
  {
   "cell_type": "markdown",
   "metadata": {
    "slideshow": {
     "slide_type": "subslide"
    }
   },
   "source": [
    "7th session:\n",
    "- Group project coaching session"
   ]
  },
  {
   "cell_type": "markdown",
   "metadata": {
    "slideshow": {
     "slide_type": "fragment"
    }
   },
   "source": [
    "8th session:\n",
    "- Group project presentations"
   ]
  },
  {
   "cell_type": "markdown",
   "metadata": {
    "slideshow": {
     "slide_type": "slide"
    }
   },
   "source": [
    "# Business Analytics\n",
    "\n",
    "[Wikipedia](https://en.wikipedia.org/wiki/Business_analytics):\n",
    "\n",
    "> **Business analytics (BA)** refers to the skills, technologies, practices \n",
    "  for continuous **iterative exploration and investigation of past business \n",
    "  performance** to **gain insight** and **drive business planning**.\n",
    "  \n",
    "  \n",
    "> Business analytics focuses on developing new insights and \n",
    "  understanding of business performance based on \n",
    "  data and statistical methods.\n",
    "  \n",
    "> Business analytics makes extensive use of analytical modeling and \n",
    "  numerical analysis, including explanatory and predictive modeling, \n",
    "  and fact-based management to drive decision making."
   ]
  },
  {
   "cell_type": "markdown",
   "metadata": {
    "slideshow": {
     "slide_type": "subslide"
    }
   },
   "source": [
    "## Machine Learning and Business Analytics I\n",
    "\n",
    "Machine Learning systems can be automated to incrementally improve over time.\n",
    "\n",
    "<a href=\"https://www.oreilly.com/library/view/hands-on-machine-learning/9781491962282/ch01.html\">\n",
    "<img src=\"../images/handson/mlst_0103.png\" alt=\"ML Approach\" width=\"50%\">\n",
    "</a>"
   ]
  },
  {
   "cell_type": "markdown",
   "metadata": {
    "slideshow": {
     "slide_type": "subslide"
    }
   },
   "source": [
    "## Machine Learning and Business Analytics II\n",
    "\n",
    "In addition, Machine Learning can be used to gain insights from data that is otherwise not available. It must no necessarily be *lots* of data.\n",
    "\n",
    "<a href=\"https://www.oreilly.com/library/view/hands-on-machine-learning/9781491962282/ch01.html\">\n",
    "<img src=\"../images/handson/mlst_0104.png\" alt=\"Traditional Approach\" width=\"50%\">\n",
    "</a>"
   ]
  },
  {
   "cell_type": "markdown",
   "metadata": {
    "slideshow": {
     "slide_type": "subslide"
    }
   },
   "source": [
    "## What \"exactly\"?\n",
    "\n",
    "- Very wide and deep\n",
    "- Lots of players\n",
    "- Lots of tools\n",
    "- (Very) different levels of sophistication\n",
    "  - For some: Excel\n",
    "  - For others: Machine learning (deep learning, ...)\n",
    "\n",
    "---\n",
    "\n",
    "*Core principles always the same*"
   ]
  },
  {
   "cell_type": "markdown",
   "metadata": {
    "slideshow": {
     "slide_type": "subslide"
    }
   },
   "source": [
    "## For us? Apply ML to BA problems!\n",
    "\n",
    "Goals:\n",
    "- **Combine ML with your knowledge and understanding of business processes**\n",
    "- Hands on\n",
    "- Focus on small use cases\n",
    "- Focus on fundamental concepts\n",
    "\n",
    "Non-goals:\n",
    "- Additional tools and libraries\n",
    "- Sophisticated methods\n",
    "- Large use cases"
   ]
  },
  {
   "cell_type": "markdown",
   "metadata": {
    "slideshow": {
     "slide_type": "subslide"
    }
   },
   "source": [
    "If you are interested\n",
    "\n",
    "### https://www.kaggle.com/competitions"
   ]
  },
  {
   "cell_type": "markdown",
   "metadata": {
    "slideshow": {
     "slide_type": "slide"
    }
   },
   "source": [
    "# Revisit Learnings and Complete Picture\n",
    "\n",
    "See:\n",
    "- [Big picture summary of theory](../2_foundations/slides_big_picture_theory.ipynb)\n",
    "- [Big picture summary of practice](./slides_big_picture_practice.ipynb)\n"
   ]
  }
 ],
 "metadata": {
  "celltoolbar": "Slideshow",
  "kernelspec": {
   "display_name": "Python 3",
   "language": "python",
   "name": "python3"
  },
  "language_info": {
   "codemirror_mode": {
    "name": "ipython",
    "version": 3
   },
   "file_extension": ".py",
   "mimetype": "text/x-python",
   "name": "python",
   "nbconvert_exporter": "python",
   "pygments_lexer": "ipython3",
   "version": "3.8.5"
  }
 },
 "nbformat": 4,
 "nbformat_minor": 2
}
