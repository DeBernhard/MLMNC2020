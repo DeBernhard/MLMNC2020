{
 "cells": [
  {
   "cell_type": "markdown",
   "metadata": {
    "colab_type": "text",
    "id": "lPu3aIPaDFlA"
   },
   "source": [
    "# Exercise: Big Picture, Decision Making, Mini Project\n",
    "\n",
    "We have revisited what we have learned so far and discussed the importance of model assessment and parameter optimization.\n",
    "\n",
    "The goal of this exercise is to take our learnings a little bit further."
   ]
  },
  {
   "cell_type": "markdown",
   "metadata": {
    "colab_type": "text",
    "id": "YNdpS3fREHIW"
   },
   "source": [
    "Answer below questions.\n",
    "The code snippeds already contained in the notebook will provide you with hints.\n",
    "\n",
    "- **For each question, give the answer by adding it to this cell.**\n",
    "- **Submit your answers through this [form](https://forms.gle/qzdiHYvuhFZoZHUn8).**\n",
    "\n",
    "\n",
    "## Questions\n",
    "### Big Picture\n",
    "You are responsible for the implementation/rollout of a ML based system.\n",
    "\n",
    "1. Based on what you have learned so far, go through this [project checklist](https://tdgunes.com/COMP6246-2018Fall/lab1/extra1_3.pdf) (taken from the Hands On ML book) and select the three single items (not headlines but specific actions) you consider most important over all checks listed, i.e. three in total.\n",
    "   **In addition, add your choice to this [form](https://forms.gle/nZ8rzFKh72irCfn86).**\n",
    "\n",
    "### Decision Making\n",
    "A ML system should be used to automate a classification problem. Perform a simple \n",
    "analysis by computing the [expected value](https://en.wikipedia.org/wiki/Expected_value) as $\\textrm{expected value} = \\sum_{\\textrm{all possible events}} \\textrm{probability of event} * \\textrm{value of event}$ (side note: this is similar to [risk assessment](https://en.wikipedia.org/wiki/Risk#Risk_assessment_and_analysis)).\n",
    "   \n",
    "As an example, revisit our toy classification problem for the moons data set and consider the [confusion matrix](https://scikit-learn.org/stable/modules/generated/sklearn.metrics.confusion_matrix.html) (or see [Wikipedia](https://en.wikipedia.org/wiki/Confusion_matrix)) below.\n",
    "For each possible outcome, we expect the following value, i.e. profit or loss:\n",
    "- The model correctly predicts a positive outcome: 300\n",
    "- The model correctly predicts a negative outcome: 100\n",
    "- The model falsely predicts a positive outcome: -2000\n",
    "- The model falsely predicts a negative outcome: -200\n",
    "\n",
    "\n",
    "2. What is the expected value?\n",
    "3. Based on your assessment, do you recommend to use the ML system or not? Provide an explanation.\n",
    "\n",
    "### Mini Project\n",
    "You are tasked with predicting the value of assets.\n",
    "\n",
    "As an example, we consider \"[california housing prices](https://scikit-learn.org/stable/datasets/index.html#california-housing-dataset)\".\n",
    "\n",
    "4. List three specific tasks you consider important in tackling this problem.\n",
    "5. Perform three specific tasks (not necessarily the same) to approach a solution and describe your findings.\n",
    "\n",
    "## Answers\n",
    "### Big Picture\n",
    "1. TBA\n",
    "\n",
    "### Decision Making\n",
    "2. TBA\n",
    "3. TBA\n",
    "\n",
    "### Mini Project\n",
    "4. TBA\n",
    "5. TBA"
   ]
  },
  {
   "cell_type": "markdown",
   "metadata": {},
   "source": [
    "## Examples"
   ]
  },
  {
   "cell_type": "markdown",
   "metadata": {},
   "source": [
    "### Big Picture\n",
    "\n",
    "*see above*"
   ]
  },
  {
   "cell_type": "markdown",
   "metadata": {},
   "source": [
    "### Decision Making"
   ]
  },
  {
   "cell_type": "code",
   "execution_count": 1,
   "metadata": {},
   "outputs": [],
   "source": [
    "from sklearn.datasets import make_moons\n",
    "from sklearn.metrics import confusion_matrix\n",
    "from sklearn.model_selection import train_test_split\n",
    "from sklearn.tree import DecisionTreeClassifier\n",
    "import matplotlib.pyplot as plt\n",
    "from mlxtend.plotting import plot_decision_regions\n",
    "import numpy as np\n",
    "\n",
    "plt.rcParams['figure.figsize'] = (10, 6)\n",
    "\n",
    "%matplotlib inline"
   ]
  },
  {
   "cell_type": "code",
   "execution_count": 2,
   "metadata": {},
   "outputs": [],
   "source": [
    "# given data\n",
    "X, y = make_moons(n_samples=200, noise=0.4, random_state=123)\n",
    "# train test split\n",
    "X_train, X_test, y_train, y_test = train_test_split(X, y, random_state=123)\n",
    "# model\n",
    "# the focus of this exercise is **not** to optimize the model\n",
    "# you can leave the parameters as is\n",
    "model = DecisionTreeClassifier(random_state=123)\n",
    "model.fit(X_train, y_train)\n",
    "# prediction\n",
    "yp_test = model.predict(X_test)"
   ]
  },
  {
   "cell_type": "code",
   "execution_count": 3,
   "metadata": {},
   "outputs": [
    {
     "name": "stdout",
     "output_type": "stream",
     "text": [
      "Help on function confusion_matrix in module sklearn.metrics.classification:\n",
      "\n",
      "confusion_matrix(y_true, y_pred, labels=None, sample_weight=None)\n",
      "    Compute confusion matrix to evaluate the accuracy of a classification\n",
      "    \n",
      "    By definition a confusion matrix :math:`C` is such that :math:`C_{i, j}`\n",
      "    is equal to the number of observations known to be in group :math:`i` but\n",
      "    predicted to be in group :math:`j`.\n",
      "    \n",
      "    Thus in binary classification, the count of true negatives is\n",
      "    :math:`C_{0,0}`, false negatives is :math:`C_{1,0}`, true positives is\n",
      "    :math:`C_{1,1}` and false positives is :math:`C_{0,1}`.\n",
      "    \n",
      "    Read more in the :ref:`User Guide <confusion_matrix>`.\n",
      "    \n",
      "    Parameters\n",
      "    ----------\n",
      "    y_true : array, shape = [n_samples]\n",
      "        Ground truth (correct) target values.\n",
      "    \n",
      "    y_pred : array, shape = [n_samples]\n",
      "        Estimated targets as returned by a classifier.\n",
      "    \n",
      "    labels : array, shape = [n_classes], optional\n",
      "        List of labels to index the matrix. This may be used to reorder\n",
      "        or select a subset of labels.\n",
      "        If none is given, those that appear at least once\n",
      "        in ``y_true`` or ``y_pred`` are used in sorted order.\n",
      "    \n",
      "    sample_weight : array-like of shape = [n_samples], optional\n",
      "        Sample weights.\n",
      "    \n",
      "    Returns\n",
      "    -------\n",
      "    C : array, shape = [n_classes, n_classes]\n",
      "        Confusion matrix\n",
      "    \n",
      "    References\n",
      "    ----------\n",
      "    .. [1] `Wikipedia entry for the Confusion matrix\n",
      "           <https://en.wikipedia.org/wiki/Confusion_matrix>`_\n",
      "           (Wikipedia and other references may use a different\n",
      "           convention for axes)\n",
      "    \n",
      "    Examples\n",
      "    --------\n",
      "    >>> from sklearn.metrics import confusion_matrix\n",
      "    >>> y_true = [2, 0, 2, 2, 0, 1]\n",
      "    >>> y_pred = [0, 0, 2, 2, 0, 2]\n",
      "    >>> confusion_matrix(y_true, y_pred)\n",
      "    array([[2, 0, 0],\n",
      "           [0, 0, 1],\n",
      "           [1, 0, 2]])\n",
      "    \n",
      "    >>> y_true = [\"cat\", \"ant\", \"cat\", \"cat\", \"ant\", \"bird\"]\n",
      "    >>> y_pred = [\"ant\", \"ant\", \"cat\", \"cat\", \"ant\", \"cat\"]\n",
      "    >>> confusion_matrix(y_true, y_pred, labels=[\"ant\", \"bird\", \"cat\"])\n",
      "    array([[2, 0, 0],\n",
      "           [0, 0, 1],\n",
      "           [1, 0, 2]])\n",
      "    \n",
      "    In the binary case, we can extract true positives, etc as follows:\n",
      "    \n",
      "    >>> tn, fp, fn, tp = confusion_matrix([0, 1, 0, 1], [1, 1, 1, 0]).ravel()\n",
      "    >>> (tn, fp, fn, tp)\n",
      "    (0, 2, 1, 1)\n",
      "\n"
     ]
    }
   ],
   "source": [
    "help(confusion_matrix)"
   ]
  },
  {
   "cell_type": "code",
   "execution_count": 4,
   "metadata": {},
   "outputs": [
    {
     "data": {
      "text/plain": [
       "array([[17,  7],\n",
       "       [ 1, 25]])"
      ]
     },
     "execution_count": 4,
     "metadata": {},
     "output_type": "execute_result"
    }
   ],
   "source": [
    "# please note that the confusion matrix on Wikipedia is transposed (rows and columns swapped)\n",
    "conf_mat = confusion_matrix(y_test, yp_test)\n",
    "conf_mat"
   ]
  },
  {
   "cell_type": "markdown",
   "metadata": {},
   "source": [
    "### Mini Project"
   ]
  },
  {
   "cell_type": "code",
   "execution_count": 5,
   "metadata": {},
   "outputs": [],
   "source": [
    "import pandas as pd\n",
    "from sklearn.datasets import fetch_california_housing\n",
    "\n",
    "data = fetch_california_housing()\n",
    "data\n",
    "\n",
    "# as dataframe\n",
    "df = pd.DataFrame(data['data'], columns=data['feature_names'])\n",
    "df['price'] = data['target']\n",
    "\n",
    "# as plain arrays\n",
    "X = data['data']\n",
    "y = data['target']"
   ]
  }
 ],
 "metadata": {
  "colab": {
   "collapsed_sections": [],
   "name": "exercise.ipynb",
   "provenance": []
  },
  "kernelspec": {
   "display_name": "Python 3",
   "language": "python",
   "name": "python3"
  },
  "language_info": {
   "codemirror_mode": {
    "name": "ipython",
    "version": 3
   },
   "file_extension": ".py",
   "mimetype": "text/x-python",
   "name": "python",
   "nbconvert_exporter": "python",
   "pygments_lexer": "ipython3",
   "version": "3.8.5"
  }
 },
 "nbformat": 4,
 "nbformat_minor": 4
}
