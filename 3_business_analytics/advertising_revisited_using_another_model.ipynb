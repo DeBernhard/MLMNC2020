{
 "cells": [
  {
   "cell_type": "markdown",
   "metadata": {
    "slideshow": {
     "slide_type": "slide"
    }
   },
   "source": [
    "# Revision II\n",
    "\n",
    "The better understand our recommendation and gain confidence, we use another model and see\n",
    "if recommendations change."
   ]
  },
  {
   "cell_type": "code",
   "execution_count": 7,
   "metadata": {
    "slideshow": {
     "slide_type": "skip"
    }
   },
   "outputs": [],
   "source": [
    "from itertools import product\n",
    "\n",
    "from ipywidgets import interact\n",
    "import matplotlib.pyplot as plt\n",
    "import numpy as np\n",
    "import pandas as pd\n",
    "import seaborn as sns\n",
    "\n",
    "%matplotlib inline\n",
    "\n",
    "COLORS = {'TV': '#1b9e77',\n",
    "          'radio': '#d95f02',\n",
    "          'newspaper': '#7570b3', \n",
    "          'total': '#c51b8a'}\n",
    "\n",
    "platform_names = ['TV', 'radio', 'newspaper']\n",
    "total_name = 'total'\n",
    "sales_name = 'sales'"
   ]
  },
  {
   "cell_type": "code",
   "execution_count": 8,
   "metadata": {
    "slideshow": {
     "slide_type": "skip"
    }
   },
   "outputs": [],
   "source": [
    "def plot_coefficients(coef, names):\n",
    "    importance = pd.Series(coef, index=names, name='coef')\n",
    "    fig, ax = plt.subplots()\n",
    "    importance.plot.bar(ax=ax)\n",
    "    ax.set_title('Coefficients')\n",
    "\n",
    "    \n",
    "def create_model_explorer(df, model):\n",
    "\n",
    "    def explore_budget_plan(tv_budget=140, radio_budget=20, newspaper_budget=30):\n",
    "        planned_budged = np.array([[tv_budget, radio_budget, newspaper_budget]])\n",
    "\n",
    "        sales_pred = model.predict(planned_budged)\n",
    "\n",
    "        fig, axs = plt.subplots(figsize=(14, 6), ncols=3, sharey=True)\n",
    "        for xname, ax in zip(xnames, axs):\n",
    "            df.plot.scatter(ax=ax, x=xname, y=yname, color=COLORS[xname])\n",
    "\n",
    "        for budget, ax in zip(planned_budged[0], axs):\n",
    "            ax.scatter(budget, sales_pred, color='k', s=800, marker='+')\n",
    "            # TODO add vlines and hlines\n",
    "    \n",
    "    return explore_budget_plan  \n",
    " \n",
    "\n",
    "def generate_valid_budget_allocations(total_budget):\n",
    "    \n",
    "    budget_options = range(0, total_budget + 1, 2)\n",
    "    \n",
    "    budget_allocations = []\n",
    "    for budget_allocation in product(budget_options, budget_options, budget_options):\n",
    "        if sum(budget_allocation) != total_budget:\n",
    "            continue\n",
    "        budget_allocations.append(budget_allocation)\n",
    "    return np.array(budget_allocations)"
   ]
  },
  {
   "cell_type": "markdown",
   "metadata": {
    "slideshow": {
     "slide_type": "skip"
    }
   },
   "source": [
    "# Load"
   ]
  },
  {
   "cell_type": "code",
   "execution_count": 22,
   "metadata": {
    "colab": {
     "base_uri": "https://localhost:8080/",
     "height": 1000
    },
    "colab_type": "code",
    "id": "nDeypu_kAul2",
    "outputId": "687c7299-ee1e-48e2-98b2-4612b6cf9aaa",
    "slideshow": {
     "slide_type": "skip"
    }
   },
   "outputs": [
    {
     "data": {
      "text/html": [
       "<div>\n",
       "<style scoped>\n",
       "    .dataframe tbody tr th:only-of-type {\n",
       "        vertical-align: middle;\n",
       "    }\n",
       "\n",
       "    .dataframe tbody tr th {\n",
       "        vertical-align: top;\n",
       "    }\n",
       "\n",
       "    .dataframe thead th {\n",
       "        text-align: right;\n",
       "    }\n",
       "</style>\n",
       "<table border=\"1\" class=\"dataframe\">\n",
       "  <thead>\n",
       "    <tr style=\"text-align: right;\">\n",
       "      <th></th>\n",
       "      <th>TV</th>\n",
       "      <th>radio</th>\n",
       "      <th>newspaper</th>\n",
       "      <th>sales</th>\n",
       "    </tr>\n",
       "  </thead>\n",
       "  <tbody>\n",
       "    <tr>\n",
       "      <th>1</th>\n",
       "      <td>230.1</td>\n",
       "      <td>37.8</td>\n",
       "      <td>69.2</td>\n",
       "      <td>22.1</td>\n",
       "    </tr>\n",
       "    <tr>\n",
       "      <th>2</th>\n",
       "      <td>44.5</td>\n",
       "      <td>39.3</td>\n",
       "      <td>45.1</td>\n",
       "      <td>10.4</td>\n",
       "    </tr>\n",
       "    <tr>\n",
       "      <th>3</th>\n",
       "      <td>17.2</td>\n",
       "      <td>45.9</td>\n",
       "      <td>69.3</td>\n",
       "      <td>9.3</td>\n",
       "    </tr>\n",
       "  </tbody>\n",
       "</table>\n",
       "</div>"
      ],
      "text/plain": [
       "      TV  radio  newspaper  sales\n",
       "1  230.1   37.8       69.2   22.1\n",
       "2   44.5   39.3       45.1   10.4\n",
       "3   17.2   45.9       69.3    9.3"
      ]
     },
     "execution_count": 22,
     "metadata": {},
     "output_type": "execute_result"
    }
   ],
   "source": [
    "# read in the data\n",
    "df = pd.read_csv('http://faculty.marshall.usc.edu/gareth-james/ISL/Advertising.csv', index_col=0)\n",
    "df.head(3)"
   ]
  },
  {
   "cell_type": "markdown",
   "metadata": {
    "slideshow": {
     "slide_type": "skip"
    }
   },
   "source": [
    "# Model\n",
    "\n",
    "1. Chose a model\n",
    "1. Select hyperparameter\n",
    "  - Grid seach\n",
    "  - Cross validation\n",
    "1. Evaluate"
   ]
  },
  {
   "cell_type": "code",
   "execution_count": 23,
   "metadata": {
    "slideshow": {
     "slide_type": "slide"
    }
   },
   "outputs": [],
   "source": [
    "xnames = platform_names\n",
    "yname = sales_name\n",
    "\n",
    "X = df[xnames]\n",
    "y = df[yname]"
   ]
  },
  {
   "cell_type": "code",
   "execution_count": 11,
   "metadata": {
    "slideshow": {
     "slide_type": "slide"
    }
   },
   "outputs": [],
   "source": [
    "from sklearn.model_selection import train_test_split\n",
    "\n",
    "X_train, X_test, y_train, y_test = train_test_split(\n",
    "    X, y, test_size=0.20, random_state=42)"
   ]
  },
  {
   "cell_type": "code",
   "execution_count": 24,
   "metadata": {
    "slideshow": {
     "slide_type": "slide"
    }
   },
   "outputs": [
    {
     "data": {
      "text/plain": [
       "GridSearchCV(cv=10, estimator=RandomForestRegressor(oob_score=True), n_jobs=3,\n",
       "             param_grid={'n_estimators': [50, 100, 200]},\n",
       "             return_train_score=True)"
      ]
     },
     "execution_count": 24,
     "metadata": {},
     "output_type": "execute_result"
    }
   ],
   "source": [
    "from sklearn.ensemble import RandomForestRegressor\n",
    "from sklearn.model_selection import GridSearchCV\n",
    "\n",
    "# a random forest requires little tuning\n",
    "# still, we vary n_estimators to include CV in this final example\n",
    "# and step through the entire process\n",
    "param_grid = {'n_estimators': [50, 100, 200]}\n",
    "\n",
    "grid_search_cv = GridSearchCV(RandomForestRegressor(oob_score=True), \n",
    "                              param_grid=param_grid, \n",
    "                              cv=10, \n",
    "                              return_train_score=True, \n",
    "                              n_jobs=3)\n",
    "grid_search_cv.fit(X_train, y_train)"
   ]
  },
  {
   "cell_type": "code",
   "execution_count": 25,
   "metadata": {},
   "outputs": [
    {
     "name": "stdout",
     "output_type": "stream",
     "text": [
      "params [{'n_estimators': 50}, {'n_estimators': 100}, {'n_estimators': 200}]\n",
      "mean_test_score [0.96749726 0.96712232 0.96745273]\n"
     ]
    }
   ],
   "source": [
    "# observe that, as noted above (random forest requires little tuning), changing the parameter had little impact\n",
    "print('params', grid_search_cv.cv_results_['params'])\n",
    "print('mean_test_score', grid_search_cv.cv_results_['mean_test_score'])"
   ]
  },
  {
   "cell_type": "code",
   "execution_count": 26,
   "metadata": {
    "slideshow": {
     "slide_type": "slide"
    }
   },
   "outputs": [
    {
     "data": {
      "text/plain": [
       "RandomForestRegressor(n_estimators=50, oob_score=True)"
      ]
     },
     "execution_count": 26,
     "metadata": {},
     "output_type": "execute_result"
    }
   ],
   "source": [
    "model = grid_search_cv.best_estimator_\n",
    "model.fit(X_train, y_train)  # for use in evaluation\n",
    "# we skip this part, cf. the previous notebooks"
   ]
  },
  {
   "cell_type": "code",
   "execution_count": 28,
   "metadata": {
    "slideshow": {
     "slide_type": "slide"
    }
   },
   "outputs": [
    {
     "data": {
      "text/plain": [
       "RandomForestRegressor(n_estimators=50, oob_score=True)"
      ]
     },
     "execution_count": 28,
     "metadata": {},
     "output_type": "execute_result"
    }
   ],
   "source": [
    "model = grid_search_cv.best_estimator_\n",
    "model.fit(X, y)  # for use in production\n",
    "# we use this final model to support our decision making"
   ]
  },
  {
   "cell_type": "markdown",
   "metadata": {
    "slideshow": {
     "slide_type": "slide"
    }
   },
   "source": [
    "## Discuss\n",
    "\n",
    "### Q&A: Investment in which channel is most valuable?\n",
    "\n",
    "We can take a look at feature importance. The larger the value, the more important the model\n",
    "considers the variable."
   ]
  },
  {
   "cell_type": "code",
   "execution_count": 29,
   "metadata": {
    "slideshow": {
     "slide_type": "subslide"
    }
   },
   "outputs": [
    {
     "data": {
      "image/png": "[encoded data removed]",
      "text/plain": [
       "<Figure size 432x288 with 1 Axes>"
      ]
     },
     "metadata": {
      "needs_background": "light"
     },
     "output_type": "display_data"
    }
   ],
   "source": [
    "plot_coefficients(model.feature_importances_, xnames)"
   ]
  },
  {
   "cell_type": "markdown",
   "metadata": {
    "slideshow": {
     "slide_type": "slide"
    }
   },
   "source": [
    "### Q&A: How to optimally distribute additional resources?\n",
    "\n",
    "Procedure:\n",
    "1. Compute a range of different budget plans.\n",
    "1. Make a prediction of each budget plan.\n",
    "1. Assess the result.\n",
    "1. Pick the plan with the largest increase in sales.\n",
    "\n",
    "---\n",
    "\n",
    "*You already know this part.*"
   ]
  },
  {
   "cell_type": "code",
   "execution_count": 30,
   "metadata": {
    "slideshow": {
     "slide_type": "skip"
    }
   },
   "outputs": [
    {
     "data": {
      "text/plain": [
       "array([[ 0,  0, 20],\n",
       "       [ 0,  2, 18],\n",
       "       [ 0,  4, 16]])"
      ]
     },
     "execution_count": 30,
     "metadata": {},
     "output_type": "execute_result"
    }
   ],
   "source": [
    "total_extra_budget = 20\n",
    "extra_budget_allocations = generate_valid_budget_allocations(total_extra_budget)\n",
    "extra_budget_allocations[:3]"
   ]
  },
  {
   "cell_type": "markdown",
   "metadata": {
    "slideshow": {
     "slide_type": "skip"
    }
   },
   "source": [
    "#### Status Quo"
   ]
  },
  {
   "cell_type": "code",
   "execution_count": 31,
   "metadata": {
    "slideshow": {
     "slide_type": "skip"
    }
   },
   "outputs": [
    {
     "data": {
      "text/html": [
       "<div>\n",
       "<style scoped>\n",
       "    .dataframe tbody tr th:only-of-type {\n",
       "        vertical-align: middle;\n",
       "    }\n",
       "\n",
       "    .dataframe tbody tr th {\n",
       "        vertical-align: top;\n",
       "    }\n",
       "\n",
       "    .dataframe thead th {\n",
       "        text-align: right;\n",
       "    }\n",
       "</style>\n",
       "<table border=\"1\" class=\"dataframe\">\n",
       "  <thead>\n",
       "    <tr style=\"text-align: right;\">\n",
       "      <th></th>\n",
       "      <th>TV</th>\n",
       "      <th>radio</th>\n",
       "      <th>newspaper</th>\n",
       "      <th>sales</th>\n",
       "    </tr>\n",
       "  </thead>\n",
       "  <tbody>\n",
       "    <tr>\n",
       "      <th>0</th>\n",
       "      <td>147.0425</td>\n",
       "      <td>23.264</td>\n",
       "      <td>30.554</td>\n",
       "      <td>14.0225</td>\n",
       "    </tr>\n",
       "  </tbody>\n",
       "</table>\n",
       "</div>"
      ],
      "text/plain": [
       "         TV   radio  newspaper    sales\n",
       "0  147.0425  23.264     30.554  14.0225"
      ]
     },
     "execution_count": 31,
     "metadata": {},
     "output_type": "execute_result"
    }
   ],
   "source": [
    "status_quo = df[xnames + [yname]].mean().to_frame().T\n",
    "status_quo  # this is where we are on average (budget-wise)"
   ]
  },
  {
   "cell_type": "markdown",
   "metadata": {
    "slideshow": {
     "slide_type": "subslide"
    }
   },
   "source": [
    "#### Possible Budget Plans"
   ]
  },
  {
   "cell_type": "code",
   "execution_count": 32,
   "metadata": {
    "slideshow": {
     "slide_type": "fragment"
    }
   },
   "outputs": [],
   "source": [
    "current_budget = status_quo[xnames].values\n",
    "possible_budget_plans = current_budget + extra_budget_allocations\n",
    "sales_pred = model.predict(possible_budget_plans)"
   ]
  },
  {
   "cell_type": "code",
   "execution_count": 33,
   "metadata": {
    "slideshow": {
     "slide_type": "fragment"
    }
   },
   "outputs": [
    {
     "data": {
      "text/html": [
       "<div>\n",
       "<style scoped>\n",
       "    .dataframe tbody tr th:only-of-type {\n",
       "        vertical-align: middle;\n",
       "    }\n",
       "\n",
       "    .dataframe tbody tr th {\n",
       "        vertical-align: top;\n",
       "    }\n",
       "\n",
       "    .dataframe thead th {\n",
       "        text-align: right;\n",
       "    }\n",
       "</style>\n",
       "<table border=\"1\" class=\"dataframe\">\n",
       "  <thead>\n",
       "    <tr style=\"text-align: right;\">\n",
       "      <th></th>\n",
       "      <th>TV</th>\n",
       "      <th>radio</th>\n",
       "      <th>newspaper</th>\n",
       "      <th>sales</th>\n",
       "    </tr>\n",
       "  </thead>\n",
       "  <tbody>\n",
       "    <tr>\n",
       "      <th>0</th>\n",
       "      <td>147.0425</td>\n",
       "      <td>23.264</td>\n",
       "      <td>50.554</td>\n",
       "      <td>14.624</td>\n",
       "    </tr>\n",
       "    <tr>\n",
       "      <th>1</th>\n",
       "      <td>147.0425</td>\n",
       "      <td>25.264</td>\n",
       "      <td>48.554</td>\n",
       "      <td>14.992</td>\n",
       "    </tr>\n",
       "    <tr>\n",
       "      <th>2</th>\n",
       "      <td>147.0425</td>\n",
       "      <td>27.264</td>\n",
       "      <td>46.554</td>\n",
       "      <td>15.948</td>\n",
       "    </tr>\n",
       "  </tbody>\n",
       "</table>\n",
       "</div>"
      ],
      "text/plain": [
       "         TV   radio  newspaper   sales\n",
       "0  147.0425  23.264     50.554  14.624\n",
       "1  147.0425  25.264     48.554  14.992\n",
       "2  147.0425  27.264     46.554  15.948"
      ]
     },
     "execution_count": 33,
     "metadata": {},
     "output_type": "execute_result"
    }
   ],
   "source": [
    "plan = pd.DataFrame(possible_budget_plans, columns=xnames)\n",
    "plan['sales'] = sales_pred\n",
    "plan.head(3)"
   ]
  },
  {
   "cell_type": "markdown",
   "metadata": {
    "slideshow": {
     "slide_type": "subslide"
    }
   },
   "source": [
    "#### Assessment\n",
    "\n",
    "Compute impact of different budget plans on sales."
   ]
  },
  {
   "cell_type": "code",
   "execution_count": 34,
   "metadata": {
    "slideshow": {
     "slide_type": "fragment"
    }
   },
   "outputs": [
    {
     "data": {
      "text/html": [
       "<div>\n",
       "<style scoped>\n",
       "    .dataframe tbody tr th:only-of-type {\n",
       "        vertical-align: middle;\n",
       "    }\n",
       "\n",
       "    .dataframe tbody tr th {\n",
       "        vertical-align: top;\n",
       "    }\n",
       "\n",
       "    .dataframe thead th {\n",
       "        text-align: right;\n",
       "    }\n",
       "</style>\n",
       "<table border=\"1\" class=\"dataframe\">\n",
       "  <thead>\n",
       "    <tr style=\"text-align: right;\">\n",
       "      <th></th>\n",
       "      <th>TV</th>\n",
       "      <th>radio</th>\n",
       "      <th>newspaper</th>\n",
       "      <th>sales</th>\n",
       "    </tr>\n",
       "  </thead>\n",
       "  <tbody>\n",
       "    <tr>\n",
       "      <th>10</th>\n",
       "      <td>0.0</td>\n",
       "      <td>20.0</td>\n",
       "      <td>0.0</td>\n",
       "      <td>4.7935</td>\n",
       "    </tr>\n",
       "    <tr>\n",
       "      <th>29</th>\n",
       "      <td>4.0</td>\n",
       "      <td>16.0</td>\n",
       "      <td>0.0</td>\n",
       "      <td>4.1495</td>\n",
       "    </tr>\n",
       "    <tr>\n",
       "      <th>20</th>\n",
       "      <td>2.0</td>\n",
       "      <td>18.0</td>\n",
       "      <td>0.0</td>\n",
       "      <td>4.1155</td>\n",
       "    </tr>\n",
       "    <tr>\n",
       "      <th>9</th>\n",
       "      <td>0.0</td>\n",
       "      <td>18.0</td>\n",
       "      <td>2.0</td>\n",
       "      <td>3.9835</td>\n",
       "    </tr>\n",
       "    <tr>\n",
       "      <th>19</th>\n",
       "      <td>2.0</td>\n",
       "      <td>16.0</td>\n",
       "      <td>2.0</td>\n",
       "      <td>3.7695</td>\n",
       "    </tr>\n",
       "  </tbody>\n",
       "</table>\n",
       "</div>"
      ],
      "text/plain": [
       "     TV  radio  newspaper   sales\n",
       "10  0.0   20.0        0.0  4.7935\n",
       "29  4.0   16.0        0.0  4.1495\n",
       "20  2.0   18.0        0.0  4.1155\n",
       "9   0.0   18.0        2.0  3.9835\n",
       "19  2.0   16.0        2.0  3.7695"
      ]
     },
     "execution_count": 34,
     "metadata": {},
     "output_type": "execute_result"
    }
   ],
   "source": [
    "absolute_difference = plan - status_quo.values\n",
    "absolute_difference.sort_values('sales', ascending=False).head(5)"
   ]
  },
  {
   "cell_type": "code",
   "execution_count": 35,
   "metadata": {
    "slideshow": {
     "slide_type": "subslide"
    }
   },
   "outputs": [
    {
     "data": {
      "text/html": [
       "<style  type=\"text/css\" >\n",
       "</style><table id=\"T_3fc06eba_120f_11eb_8c8f_199b1d58aa80\" ><thead>    <tr>        <th class=\"blank level0\" ></th>        <th class=\"col_heading level0 col0\" >TV</th>        <th class=\"col_heading level0 col1\" >radio</th>        <th class=\"col_heading level0 col2\" >newspaper</th>        <th class=\"col_heading level0 col3\" >sales</th>    </tr></thead><tbody>\n",
       "                <tr>\n",
       "                        <th id=\"T_3fc06eba_120f_11eb_8c8f_199b1d58aa80level0_row0\" class=\"row_heading level0 row0\" >10</th>\n",
       "                        <td id=\"T_3fc06eba_120f_11eb_8c8f_199b1d58aa80row0_col0\" class=\"data row0 col0\" >0.00%</td>\n",
       "                        <td id=\"T_3fc06eba_120f_11eb_8c8f_199b1d58aa80row0_col1\" class=\"data row0 col1\" >85.97%</td>\n",
       "                        <td id=\"T_3fc06eba_120f_11eb_8c8f_199b1d58aa80row0_col2\" class=\"data row0 col2\" >0.00%</td>\n",
       "                        <td id=\"T_3fc06eba_120f_11eb_8c8f_199b1d58aa80row0_col3\" class=\"data row0 col3\" >34.18%</td>\n",
       "            </tr>\n",
       "            <tr>\n",
       "                        <th id=\"T_3fc06eba_120f_11eb_8c8f_199b1d58aa80level0_row1\" class=\"row_heading level0 row1\" >29</th>\n",
       "                        <td id=\"T_3fc06eba_120f_11eb_8c8f_199b1d58aa80row1_col0\" class=\"data row1 col0\" >2.72%</td>\n",
       "                        <td id=\"T_3fc06eba_120f_11eb_8c8f_199b1d58aa80row1_col1\" class=\"data row1 col1\" >68.78%</td>\n",
       "                        <td id=\"T_3fc06eba_120f_11eb_8c8f_199b1d58aa80row1_col2\" class=\"data row1 col2\" >0.00%</td>\n",
       "                        <td id=\"T_3fc06eba_120f_11eb_8c8f_199b1d58aa80row1_col3\" class=\"data row1 col3\" >29.59%</td>\n",
       "            </tr>\n",
       "            <tr>\n",
       "                        <th id=\"T_3fc06eba_120f_11eb_8c8f_199b1d58aa80level0_row2\" class=\"row_heading level0 row2\" >20</th>\n",
       "                        <td id=\"T_3fc06eba_120f_11eb_8c8f_199b1d58aa80row2_col0\" class=\"data row2 col0\" >1.36%</td>\n",
       "                        <td id=\"T_3fc06eba_120f_11eb_8c8f_199b1d58aa80row2_col1\" class=\"data row2 col1\" >77.37%</td>\n",
       "                        <td id=\"T_3fc06eba_120f_11eb_8c8f_199b1d58aa80row2_col2\" class=\"data row2 col2\" >0.00%</td>\n",
       "                        <td id=\"T_3fc06eba_120f_11eb_8c8f_199b1d58aa80row2_col3\" class=\"data row2 col3\" >29.35%</td>\n",
       "            </tr>\n",
       "            <tr>\n",
       "                        <th id=\"T_3fc06eba_120f_11eb_8c8f_199b1d58aa80level0_row3\" class=\"row_heading level0 row3\" >9</th>\n",
       "                        <td id=\"T_3fc06eba_120f_11eb_8c8f_199b1d58aa80row3_col0\" class=\"data row3 col0\" >0.00%</td>\n",
       "                        <td id=\"T_3fc06eba_120f_11eb_8c8f_199b1d58aa80row3_col1\" class=\"data row3 col1\" >77.37%</td>\n",
       "                        <td id=\"T_3fc06eba_120f_11eb_8c8f_199b1d58aa80row3_col2\" class=\"data row3 col2\" >6.55%</td>\n",
       "                        <td id=\"T_3fc06eba_120f_11eb_8c8f_199b1d58aa80row3_col3\" class=\"data row3 col3\" >28.41%</td>\n",
       "            </tr>\n",
       "            <tr>\n",
       "                        <th id=\"T_3fc06eba_120f_11eb_8c8f_199b1d58aa80level0_row4\" class=\"row_heading level0 row4\" >19</th>\n",
       "                        <td id=\"T_3fc06eba_120f_11eb_8c8f_199b1d58aa80row4_col0\" class=\"data row4 col0\" >1.36%</td>\n",
       "                        <td id=\"T_3fc06eba_120f_11eb_8c8f_199b1d58aa80row4_col1\" class=\"data row4 col1\" >68.78%</td>\n",
       "                        <td id=\"T_3fc06eba_120f_11eb_8c8f_199b1d58aa80row4_col2\" class=\"data row4 col2\" >6.55%</td>\n",
       "                        <td id=\"T_3fc06eba_120f_11eb_8c8f_199b1d58aa80row4_col3\" class=\"data row4 col3\" >26.88%</td>\n",
       "            </tr>\n",
       "    </tbody></table>"
      ],
      "text/plain": [
       "<pandas.io.formats.style.Styler at 0x7f6d15555670>"
      ]
     },
     "execution_count": 35,
     "metadata": {},
     "output_type": "execute_result"
    }
   ],
   "source": [
    "relative_difference = (plan - status_quo.values)/status_quo.values\n",
    "relative_difference.sort_values('sales', ascending=False).head(5).style.format(\"{:.2%}\")"
   ]
  },
  {
   "cell_type": "markdown",
   "metadata": {
    "slideshow": {
     "slide_type": "slide"
    }
   },
   "source": [
    "#### Decision\n",
    "\n",
    "Spend the entire additional budget on radio."
   ]
  },
  {
   "cell_type": "markdown",
   "metadata": {
    "slideshow": {
     "slide_type": "slide"
    }
   },
   "source": [
    "# Concluding Remarks\n",
    "\n",
    "- There are a range of different search strategies to chose\n",
    "  hyperparameters. For us, using a grid search is fine.\n",
    "- The model itself is a hyperparameter is well. In this class, \n",
    "  it is sufficient to change it manually.\n",
    "- Random forests are popular *off the shelve* models. They are easy\n",
    "  to use and often provide a good base line.\n",
    "- Ideally, the decision making process is modelled in a way that \n",
    "  different models can be plugged in as needed. As we did above."
   ]
  },
  {
   "cell_type": "markdown",
   "metadata": {
    "slideshow": {
     "slide_type": "slide"
    }
   },
   "source": [
    "# Follow Up Questions & Exercises\n",
    "\n",
    "- How does the feature importance estimation compare between the random forest and \n",
    "  the linear model with polynomial terms?\n",
    "- How does a tree based model behave out of data (compared to the linear model)?"
   ]
  }
 ],
 "metadata": {
  "celltoolbar": "Slideshow",
  "colab": {
   "collapsed_sections": [],
   "name": "advertising.ipynb",
   "provenance": [],
   "toc_visible": true
  },
  "kernelspec": {
   "display_name": "Python 3",
   "language": "python",
   "name": "python3"
  },
  "language_info": {
   "codemirror_mode": {
    "name": "ipython",
    "version": 3
   },
   "file_extension": ".py",
   "mimetype": "text/x-python",
   "name": "python",
   "nbconvert_exporter": "python",
   "pygments_lexer": "ipython3",
   "version": "3.8.5"
  },
  "toc": {
   "base_numbering": 1,
   "nav_menu": {},
   "number_sections": true,
   "sideBar": true,
   "skip_h1_title": true,
   "title_cell": "Table of Contents",
   "title_sidebar": "Contents",
   "toc_cell": false,
   "toc_position": {},
   "toc_section_display": true,
   "toc_window_display": true
  }
 },
 "nbformat": 4,
 "nbformat_minor": 4
}
