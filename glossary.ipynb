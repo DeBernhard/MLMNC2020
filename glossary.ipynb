{
 "cells": [
  {
   "cell_type": "markdown",
   "metadata": {
    "colab_type": "text",
    "id": "m1ZY-yTm1x4Y"
   },
   "source": [
    "# Glossary\n",
    "\n",
    "In this chapter we will revisit some of the terminology introduced in the reference literature, in particular in ISL, and establish the link between theoretical formulations and their corresponding equivalents in Python code.\n",
    "\n",
    "The following assumes you are familiar with the pre-class readings as outlined in the [README](https://colab.research.google.com/drive/1bJARd-n2diL2B9XyEvOXkOVnUc7P5-Eo).\n",
    "\n",
    "*If you have not yet read above chapters, please do so.*"
   ]
  },
  {
   "cell_type": "markdown",
   "metadata": {
    "colab_type": "text",
    "id": "GGRGT6xT1x4Z"
   },
   "source": [
    "## Python And Programming Terminology\n",
    "\n",
    "While this lecture is not a programming course, writing code to perform data analysis operations is an essential part.\n",
    "Hence, before we can address the relationship between ISL formulas/concepts and Python code, we need to introduce some additional terminology related to Python and programming in general.\n",
    "\n",
    "\n",
    "### Python\n",
    "\n",
    "[Python](https://www.python.org/) is a programming language. It allows you to express you intentions in code and in doing so let a computer carry out actions on your behalf.\n",
    "\n",
    "In this course, we will use Python to analyze data by computing statistics, plotting charts and applying machine learning methods to *learn from data*.\n",
    "\n",
    "\n",
    "### Libraries And Packages\n",
    "\n",
    "In programming, code devoted to specific use cases or areas of application is often bundled into [libraries](https://en.wikipedia.org/wiki/Library_(computing)) or packages. These are a means of organizing code to help both developers and users.\n",
    "\n",
    "In this course, we will use several different packages to that will enable us to achieve our objectives.\n",
    "Notable packages include:\n",
    "- [NumPy](http://www.numpy.org/): useful for numerical calculations\n",
    "- [matplotlib](http://matplotlib.org/): useful for plotting\n",
    "- [pandas](http://pandas.pydata.org/): useful for data analysis and exploration\n",
    "- [scikit-learn](https://scikit-learn.org): the machine learning library used in this course\n",
    "\n",
    "To be able to use a package, it needs to be installed first. Fortunately, Google Colaboratory already provides a vast set of pre-installed libraries."
   ]
  },
  {
   "cell_type": "code",
   "execution_count": 1,
   "metadata": {
    "colab": {
     "base_uri": "https://localhost:8080/",
     "height": 1000
    },
    "colab_type": "code",
    "id": "h2vt1mDc1x4a",
    "outputId": "a125792d-067d-4f22-fc16-51ffcc829af4"
   },
   "outputs": [
    {
     "name": "stdout",
     "output_type": "stream",
     "text": [
      "Package                           Version\n",
      "--------------------------------- -------------------\n",
      "argon2-cffi                       20.1.0\n",
      "astroid                           2.4.2\n",
      "attrs                             20.1.0\n",
      "backcall                          0.2.0\n",
      "bleach                            3.1.5\n",
      "brotlipy                          0.7.0\n",
      "certifi                           2020.6.20\n",
      "cffi                              1.14.2\n",
      "chardet                           3.0.4\n",
      "cryptography                      3.1\n",
      "cycler                            0.10.0\n",
      "decorator                         4.4.2\n",
      "defusedxml                        0.6.0\n",
      "eli5                              0.10.1\n",
      "entrypoints                       0.3\n",
      "graphviz                          0.14\n",
      "idna                              2.10\n",
      "importlib-metadata                1.7.0\n",
      "ipykernel                         5.3.4\n",
      "ipython                           7.18.1\n",
      "ipython-genutils                  0.2.0\n",
      "ipywidgets                        7.5.1\n",
      "isort                             5.4.2\n",
      "jedi                              0.17.2\n",
      "Jinja2                            2.11.2\n",
      "joblib                            0.16.0\n",
      "json5                             0.9.5\n",
      "jsonschema                        3.2.0\n",
      "jupyter-client                    6.1.6\n",
      "jupyter-contrib-core              0.3.3\n",
      "jupyter-contrib-nbextensions      0.5.1\n",
      "jupyter-core                      4.6.3\n",
      "jupyter-highlight-selected-word   0.2.0\n",
      "jupyter-latex-envs                1.4.6\n",
      "jupyter-nbextensions-configurator 0.4.1\n",
      "jupyterlab                        2.2.6\n",
      "jupyterlab-server                 1.2.0\n",
      "kiwisolver                        1.2.0\n",
      "lazy-object-proxy                 1.4.3\n",
      "lxml                              4.5.2\n",
      "MarkupSafe                        1.1.1\n",
      "matplotlib                        3.3.1\n",
      "mccabe                            0.6.1\n",
      "mistune                           0.8.4\n",
      "mkl-fft                           1.1.0\n",
      "mkl-random                        1.1.1\n",
      "mkl-service                       2.3.0\n",
      "mlxtend                           0.17.3\n",
      "nbconvert                         5.6.1\n",
      "nbformat                          5.0.7\n",
      "notebook                          6.1.1\n",
      "numpy                             1.19.1\n",
      "olefile                           0.46\n",
      "packaging                         20.4\n",
      "pandas                            1.1.1\n",
      "pandocfilters                     1.4.2\n",
      "parso                             0.7.0\n",
      "pexpect                           4.8.0\n",
      "pickleshare                       0.7.5\n",
      "Pillow                            7.2.0\n",
      "pip                               20.2.2\n",
      "prometheus-client                 0.8.0\n",
      "prompt-toolkit                    3.0.7\n",
      "ptyprocess                        0.6.0\n",
      "pycparser                         2.20\n",
      "Pygments                          2.6.1\n",
      "pylint                            2.6.0\n",
      "pyOpenSSL                         19.1.0\n",
      "pyparsing                         2.4.7\n",
      "pyrsistent                        0.16.0\n",
      "PySocks                           1.7.1\n",
      "python-dateutil                   2.8.1\n",
      "pytz                              2020.1\n",
      "PyYAML                            5.3.1\n",
      "pyzmq                             19.0.1\n",
      "requests                          2.24.0\n",
      "scikit-learn                      0.23.2\n",
      "scipy                             1.5.2\n",
      "seaborn                           0.10.1\n",
      "Send2Trash                        1.5.0\n",
      "setuptools                        49.6.0.post20200814\n",
      "singledispatch                    3.4.0.3\n",
      "sip                               4.19.13\n",
      "six                               1.15.0\n",
      "tabulate                          0.8.7\n",
      "terminado                         0.8.3\n",
      "testpath                          0.4.4\n",
      "threadpoolctl                     2.1.0\n",
      "toml                              0.10.1\n",
      "tornado                           6.0.4\n",
      "traitlets                         4.3.3\n",
      "urllib3                           1.25.10\n",
      "wcwidth                           0.2.5\n",
      "webencodings                      0.5.1\n",
      "wheel                             0.35.1\n",
      "widgetsnbextension                3.5.1\n",
      "wrapt                             1.11.2\n",
      "zipp                              3.1.0\n"
     ]
    }
   ],
   "source": [
    "# to list the currently available packages, you can do\n",
    "!pip list"
   ]
  },
  {
   "cell_type": "markdown",
   "metadata": {
    "colab_type": "text",
    "id": "gjr7EScu1x4f"
   },
   "source": [
    "As you can see, the libraries mentioned above are all listed."
   ]
  },
  {
   "cell_type": "markdown",
   "metadata": {
    "colab_type": "text",
    "id": "vBulNupx1x4g"
   },
   "source": [
    "Besides bundling code into packages, there are additional means of organizing code that we will briefly take a look at here.\n",
    "\n",
    "### Modules\n",
    "\n",
    "Similarly to a package, a module is an organizational unit of Python code. It is a text file with a `.py` extension, the functionality provided in a module can be made available by the process of *importing*.\n",
    "\n",
    "Within a module, code is further organized into functions or classes. \n",
    "\n",
    "### Functions, Classes (And Objects)\n",
    "\n",
    "A *function* comprises a series of statements and (usually) returns some value to the caller/user. It can be passed zero or more arguments.\n",
    "\n",
    "You can think of a function as something similar to a mathematical function.\n",
    "\n",
    "\n",
    "To encapsulate complex procedures or computations it is often necessary to bundle together data and functions that operate on that data. A *class* is a mechanism to do just that. A class is a template to create an *instance* (or generally speaking *object*). In the context of classes and objects, function is called a *method*.\n",
    "\n",
    "\n",
    "While going into the details of functions and classes is out of the scope of this lecture, you will frequently make use of them.\n",
    "\n",
    "\n",
    "### Examples\n",
    "\n",
    "In the following, above notions are revisited and code examples are given.\n",
    "\n",
    "#### Importing A Package\n",
    "\n",
    "We import pandas to read a data file."
   ]
  },
  {
   "cell_type": "code",
   "execution_count": 2,
   "metadata": {
    "colab": {
     "base_uri": "https://localhost:8080/",
     "height": 34
    },
    "colab_type": "code",
    "id": "LVoG4cSF1x4i",
    "outputId": "8de59b6b-b40d-4fee-ab68-67f9602c6ff1"
   },
   "outputs": [
    {
     "data": {
      "text/plain": [
       "<module 'pandas' from '/home/claus/miniconda3/envs/mlmnc/lib/python3.8/site-packages/pandas/__init__.py'>"
      ]
     },
     "execution_count": 2,
     "metadata": {},
     "output_type": "execute_result"
    }
   ],
   "source": [
    "import pandas as pd  # import package pandas and make in available under the name pd\n",
    "pd"
   ]
  },
  {
   "cell_type": "code",
   "execution_count": 3,
   "metadata": {
    "colab": {
     "base_uri": "https://localhost:8080/",
     "height": 204
    },
    "colab_type": "code",
    "id": "CWeu4WG41x4l",
    "outputId": "fe695ef4-50fa-4321-cbe8-07efe51c80d2"
   },
   "outputs": [
    {
     "data": {
      "text/html": [
       "<div>\n",
       "<style scoped>\n",
       "    .dataframe tbody tr th:only-of-type {\n",
       "        vertical-align: middle;\n",
       "    }\n",
       "\n",
       "    .dataframe tbody tr th {\n",
       "        vertical-align: top;\n",
       "    }\n",
       "\n",
       "    .dataframe thead th {\n",
       "        text-align: right;\n",
       "    }\n",
       "</style>\n",
       "<table border=\"1\" class=\"dataframe\">\n",
       "  <thead>\n",
       "    <tr style=\"text-align: right;\">\n",
       "      <th></th>\n",
       "      <th>Unnamed: 0</th>\n",
       "      <th>year</th>\n",
       "      <th>age</th>\n",
       "      <th>maritl</th>\n",
       "      <th>race</th>\n",
       "      <th>education</th>\n",
       "      <th>region</th>\n",
       "      <th>jobclass</th>\n",
       "      <th>health</th>\n",
       "      <th>health_ins</th>\n",
       "      <th>logwage</th>\n",
       "      <th>wage</th>\n",
       "    </tr>\n",
       "  </thead>\n",
       "  <tbody>\n",
       "    <tr>\n",
       "      <th>0</th>\n",
       "      <td>231655</td>\n",
       "      <td>2006</td>\n",
       "      <td>18</td>\n",
       "      <td>1. Never Married</td>\n",
       "      <td>1. White</td>\n",
       "      <td>1. &lt; HS Grad</td>\n",
       "      <td>2. Middle Atlantic</td>\n",
       "      <td>1. Industrial</td>\n",
       "      <td>1. &lt;=Good</td>\n",
       "      <td>2. No</td>\n",
       "      <td>4.318063</td>\n",
       "      <td>75.043154</td>\n",
       "    </tr>\n",
       "    <tr>\n",
       "      <th>1</th>\n",
       "      <td>86582</td>\n",
       "      <td>2004</td>\n",
       "      <td>24</td>\n",
       "      <td>1. Never Married</td>\n",
       "      <td>1. White</td>\n",
       "      <td>4. College Grad</td>\n",
       "      <td>2. Middle Atlantic</td>\n",
       "      <td>2. Information</td>\n",
       "      <td>2. &gt;=Very Good</td>\n",
       "      <td>2. No</td>\n",
       "      <td>4.255273</td>\n",
       "      <td>70.476020</td>\n",
       "    </tr>\n",
       "    <tr>\n",
       "      <th>2</th>\n",
       "      <td>161300</td>\n",
       "      <td>2003</td>\n",
       "      <td>45</td>\n",
       "      <td>2. Married</td>\n",
       "      <td>1. White</td>\n",
       "      <td>3. Some College</td>\n",
       "      <td>2. Middle Atlantic</td>\n",
       "      <td>1. Industrial</td>\n",
       "      <td>1. &lt;=Good</td>\n",
       "      <td>1. Yes</td>\n",
       "      <td>4.875061</td>\n",
       "      <td>130.982177</td>\n",
       "    </tr>\n",
       "    <tr>\n",
       "      <th>3</th>\n",
       "      <td>155159</td>\n",
       "      <td>2003</td>\n",
       "      <td>43</td>\n",
       "      <td>2. Married</td>\n",
       "      <td>3. Asian</td>\n",
       "      <td>4. College Grad</td>\n",
       "      <td>2. Middle Atlantic</td>\n",
       "      <td>2. Information</td>\n",
       "      <td>2. &gt;=Very Good</td>\n",
       "      <td>1. Yes</td>\n",
       "      <td>5.041393</td>\n",
       "      <td>154.685293</td>\n",
       "    </tr>\n",
       "    <tr>\n",
       "      <th>4</th>\n",
       "      <td>11443</td>\n",
       "      <td>2005</td>\n",
       "      <td>50</td>\n",
       "      <td>4. Divorced</td>\n",
       "      <td>1. White</td>\n",
       "      <td>2. HS Grad</td>\n",
       "      <td>2. Middle Atlantic</td>\n",
       "      <td>2. Information</td>\n",
       "      <td>1. &lt;=Good</td>\n",
       "      <td>1. Yes</td>\n",
       "      <td>4.318063</td>\n",
       "      <td>75.043154</td>\n",
       "    </tr>\n",
       "  </tbody>\n",
       "</table>\n",
       "</div>"
      ],
      "text/plain": [
       "   Unnamed: 0  year  age            maritl      race        education  \\\n",
       "0      231655  2006   18  1. Never Married  1. White     1. < HS Grad   \n",
       "1       86582  2004   24  1. Never Married  1. White  4. College Grad   \n",
       "2      161300  2003   45        2. Married  1. White  3. Some College   \n",
       "3      155159  2003   43        2. Married  3. Asian  4. College Grad   \n",
       "4       11443  2005   50       4. Divorced  1. White       2. HS Grad   \n",
       "\n",
       "               region        jobclass          health health_ins   logwage  \\\n",
       "0  2. Middle Atlantic   1. Industrial       1. <=Good      2. No  4.318063   \n",
       "1  2. Middle Atlantic  2. Information  2. >=Very Good      2. No  4.255273   \n",
       "2  2. Middle Atlantic   1. Industrial       1. <=Good     1. Yes  4.875061   \n",
       "3  2. Middle Atlantic  2. Information  2. >=Very Good     1. Yes  5.041393   \n",
       "4  2. Middle Atlantic  2. Information       1. <=Good     1. Yes  4.318063   \n",
       "\n",
       "         wage  \n",
       "0   75.043154  \n",
       "1   70.476020  \n",
       "2  130.982177  \n",
       "3  154.685293  \n",
       "4   75.043154  "
      ]
     },
     "execution_count": 3,
     "metadata": {},
     "output_type": "execute_result"
    }
   ],
   "source": [
    "# now that pandas is available, we can use it to read in a data file\n",
    "# for later use, we assign the result of pd.read_csv to a variable df \n",
    "# df stands for DataFrame\n",
    "df = pd.read_csv('https://raw.githubusercontent.com/dsnair/ISLR/master/data/csv/Wage.csv')\n",
    "df.head()  # display the first 5 rows"
   ]
  },
  {
   "cell_type": "code",
   "execution_count": 4,
   "metadata": {
    "colab": {
     "base_uri": "https://localhost:8080/",
     "height": 34
    },
    "colab_type": "code",
    "id": "m0doPsV21x4o",
    "outputId": "af4f8335-08f1-4efc-b364-b48a69e0e52b"
   },
   "outputs": [
    {
     "data": {
      "text/plain": [
       "(20.0855369231877, 318.342430056529)"
      ]
     },
     "execution_count": 4,
     "metadata": {},
     "output_type": "execute_result"
    }
   ],
   "source": [
    "# a DataFrame is a tabular data structure (you can think of it as something similar to an Excel sheet)\n",
    "# it is a very useful container for data analysis purposes\n",
    "# * compute min and max wage\n",
    "df['wage'].min(), df['wage'].max()"
   ]
  },
  {
   "cell_type": "code",
   "execution_count": 5,
   "metadata": {
    "colab": {
     "base_uri": "https://localhost:8080/",
     "height": 300
    },
    "colab_type": "code",
    "id": "FUCBlakA1x4r",
    "outputId": "b0b32218-fec2-417e-b728-b0f30e9275e6"
   },
   "outputs": [
    {
     "data": {
      "text/plain": [
       "<AxesSubplot:xlabel='age', ylabel='wage'>"
      ]
     },
     "execution_count": 5,
     "metadata": {},
     "output_type": "execute_result"
    },
    {
     "data": {
      "image/png": "[encoded data removed]",
      "text/plain": [
       "<Figure size 432x288 with 1 Axes>"
      ]
     },
     "metadata": {
      "needs_background": "light"
     },
     "output_type": "display_data"
    }
   ],
   "source": [
    "# * plot how wage depends on age\n",
    "df.plot.scatter(x='age', y='wage')"
   ]
  },
  {
   "cell_type": "code",
   "execution_count": 6,
   "metadata": {
    "colab": {},
    "colab_type": "code",
    "id": "bVDkKvIh1x4v"
   },
   "outputs": [],
   "source": [
    "# * and much, much more\n",
    "# we will use pandas during the course\n",
    "# if you wish to know more already, there is a handy 10 minutes introduction available at\n",
    "# https://pandas.pydata.org/pandas-docs/stable/getting_started/10min.html"
   ]
  },
  {
   "cell_type": "markdown",
   "metadata": {
    "colab_type": "text",
    "id": "Fku7R5JZ1x4y"
   },
   "source": [
    "#### Defining A Function\n",
    "\n",
    "We define a function to say hello."
   ]
  },
  {
   "cell_type": "code",
   "execution_count": 7,
   "metadata": {
    "colab": {},
    "colab_type": "code",
    "id": "574tCcqo1x4y"
   },
   "outputs": [],
   "source": [
    "def say_hello(name):\n",
    "    print('Hello', name)"
   ]
  },
  {
   "cell_type": "code",
   "execution_count": 8,
   "metadata": {
    "colab": {
     "base_uri": "https://localhost:8080/",
     "height": 34
    },
    "colab_type": "code",
    "id": "oE_Ah3eS1x41",
    "outputId": "33e63b97-2075-4534-a63f-bb8aa005aa30"
   },
   "outputs": [
    {
     "name": "stdout",
     "output_type": "stream",
     "text": [
      "Hello Jane\n"
     ]
    }
   ],
   "source": [
    "# to use a function, you call it (and pass the required parameters)\n",
    "say_hello('Jane')"
   ]
  },
  {
   "cell_type": "code",
   "execution_count": 9,
   "metadata": {
    "colab": {},
    "colab_type": "code",
    "id": "T9odtvcw1x44"
   },
   "outputs": [],
   "source": [
    "# more often than not, functions have a return value\n",
    "def compute_something_important(x0, x1):\n",
    "    y = 2*x0 + 3*x1  # do what you intend to do\n",
    "    return y  # return the result"
   ]
  },
  {
   "cell_type": "code",
   "execution_count": 10,
   "metadata": {
    "colab": {
     "base_uri": "https://localhost:8080/",
     "height": 34
    },
    "colab_type": "code",
    "id": "wUuDi_DB1x47",
    "outputId": "64f7e9e4-0841-4cdf-a371-f3ed0c81915a"
   },
   "outputs": [
    {
     "data": {
      "text/plain": [
       "8"
      ]
     },
     "execution_count": 10,
     "metadata": {},
     "output_type": "execute_result"
    }
   ],
   "source": [
    "# to use the function, you call it passing values for x0 and x1\n",
    "compute_something_important(1, 2)  # 2*1 + 3*2 = 8"
   ]
  },
  {
   "cell_type": "markdown",
   "metadata": {
    "colab_type": "text",
    "id": "gGohBH1b1x4-"
   },
   "source": [
    "#### Class vs. Object - Who Cares?\n",
    "\n",
    "While, as said, going into details is clearly out of scope, we list a few examples of classes and objects below."
   ]
  },
  {
   "cell_type": "code",
   "execution_count": 11,
   "metadata": {
    "colab": {
     "base_uri": "https://localhost:8080/",
     "height": 34
    },
    "colab_type": "code",
    "id": "dantl4qQ1x4_",
    "outputId": "e8c642c3-37dc-47a6-e7e6-b3dbe6b5e9ae"
   },
   "outputs": [
    {
     "data": {
      "text/plain": [
       "pandas.core.frame.DataFrame"
      ]
     },
     "execution_count": 11,
     "metadata": {},
     "output_type": "execute_result"
    }
   ],
   "source": [
    "pd.DataFrame  # this is class (the template/blueprint)"
   ]
  },
  {
   "cell_type": "code",
   "execution_count": 12,
   "metadata": {
    "colab": {
     "base_uri": "https://localhost:8080/",
     "height": 142
    },
    "colab_type": "code",
    "id": "rU8oNn0U1x5C",
    "outputId": "e10a1af3-a235-4f82-e638-edb98026b97b"
   },
   "outputs": [
    {
     "data": {
      "text/html": [
       "<div>\n",
       "<style scoped>\n",
       "    .dataframe tbody tr th:only-of-type {\n",
       "        vertical-align: middle;\n",
       "    }\n",
       "\n",
       "    .dataframe tbody tr th {\n",
       "        vertical-align: top;\n",
       "    }\n",
       "\n",
       "    .dataframe thead th {\n",
       "        text-align: right;\n",
       "    }\n",
       "</style>\n",
       "<table border=\"1\" class=\"dataframe\">\n",
       "  <thead>\n",
       "    <tr style=\"text-align: right;\">\n",
       "      <th></th>\n",
       "      <th>data</th>\n",
       "    </tr>\n",
       "  </thead>\n",
       "  <tbody>\n",
       "    <tr>\n",
       "      <th>0</th>\n",
       "      <td>1</td>\n",
       "    </tr>\n",
       "    <tr>\n",
       "      <th>1</th>\n",
       "      <td>2</td>\n",
       "    </tr>\n",
       "    <tr>\n",
       "      <th>2</th>\n",
       "      <td>3</td>\n",
       "    </tr>\n",
       "  </tbody>\n",
       "</table>\n",
       "</div>"
      ],
      "text/plain": [
       "   data\n",
       "0     1\n",
       "1     2\n",
       "2     3"
      ]
     },
     "execution_count": 12,
     "metadata": {},
     "output_type": "execute_result"
    }
   ],
   "source": [
    "pd.DataFrame({'data': [1, 2, 3]})  # this is an object (based on the blueprint but with very specific data)"
   ]
  },
  {
   "cell_type": "code",
   "execution_count": 13,
   "metadata": {
    "colab": {
     "base_uri": "https://localhost:8080/",
     "height": 68
    },
    "colab_type": "code",
    "id": "abX0oBZx1x5G",
    "outputId": "c427ca9c-3c6f-4639-fab1-e835ff8eb575"
   },
   "outputs": [
    {
     "data": {
      "text/plain": [
       "array([[1],\n",
       "       [2],\n",
       "       [3]])"
      ]
     },
     "execution_count": 13,
     "metadata": {},
     "output_type": "execute_result"
    }
   ],
   "source": [
    "# now that we have data and functions bundled together, we can make use of that\n",
    "df = pd.DataFrame({'data': [1, 2, 3]})\n",
    "df.values  # <-- the data"
   ]
  },
  {
   "cell_type": "code",
   "execution_count": 14,
   "metadata": {
    "colab": {
     "base_uri": "https://localhost:8080/",
     "height": 51
    },
    "colab_type": "code",
    "id": "4jEkE7t41x5J",
    "outputId": "94b9423a-3087-4ba0-8485-aeb8d34dc760"
   },
   "outputs": [
    {
     "data": {
      "text/plain": [
       "data    3\n",
       "dtype: int64"
      ]
     },
     "execution_count": 14,
     "metadata": {},
     "output_type": "execute_result"
    }
   ],
   "source": [
    "df.max()  # <-- a function knowing about the data; as we talk about an object, max is a method"
   ]
  },
  {
   "cell_type": "code",
   "execution_count": 15,
   "metadata": {
    "colab": {
     "base_uri": "https://localhost:8080/",
     "height": 51
    },
    "colab_type": "code",
    "id": "t-Fak9El1x5L",
    "outputId": "020e2755-d2e4-406b-9eb5-7156a0b365a6"
   },
   "outputs": [
    {
     "data": {
      "text/plain": [
       "data    1\n",
       "dtype: int64"
      ]
     },
     "execution_count": 15,
     "metadata": {},
     "output_type": "execute_result"
    }
   ],
   "source": [
    "df.min()  # <-- another method"
   ]
  },
  {
   "cell_type": "code",
   "execution_count": 16,
   "metadata": {
    "colab": {
     "base_uri": "https://localhost:8080/",
     "height": 286
    },
    "colab_type": "code",
    "id": "lSNUkLC91x5O",
    "outputId": "67460ebe-0bc8-4bb7-b592-056aef78c0ed"
   },
   "outputs": [
    {
     "data": {
      "text/plain": [
       "<AxesSubplot:>"
      ]
     },
     "execution_count": 16,
     "metadata": {},
     "output_type": "execute_result"
    },
    {
     "data": {
      "image/png": "[encoded data removed]",
      "text/plain": [
       "<Figure size 432x288 with 1 Axes>"
      ]
     },
     "metadata": {
      "needs_background": "light"
     },
     "output_type": "display_data"
    }
   ],
   "source": [
    "df.plot(marker='o')  # <-- yet another method"
   ]
  },
  {
   "cell_type": "markdown",
   "metadata": {
    "colab_type": "text",
    "id": "K3PavAWn1x5T"
   },
   "source": [
    "## From Formula To Code\n",
    "\n",
    "### $Y = f(X) + \\epsilon$ - What Is $f$?\n",
    "\n",
    "The introductory chapter \"2.1 What Is Statistical Learning\" in \\[ISL] introduces a very generic function $f$ as part of the equation\n",
    "\n",
    "$$Y = f(X) + \\epsilon.$$\n",
    "\n",
    "$f$ is often simply referred to as *model*.\n",
    "\n",
    "$f$ may take a lot of different forms and the specific choice of $f$ is a key aspect of any Machine Learning system.\n",
    "\n",
    "\n",
    "#### $f$ In Our Case\n",
    "When approaching a Data Science problem, as soon as you start writing code, you usually make a specific decision (that you may revisit later) on the form of $f$ by choosing a certain model you deem appropriate.\n",
    "\n",
    "In this lecture, we will employ a very popular machine learning library called scikit-learn.\n",
    "\n",
    "scikit-learn provides a wide range of machine learning models which it refers to as [*estimators*](https://scikit-learn.org/stable/glossary.html#term-estimator). The notion reflects the fact that a model is supposed to *learn from data* through estimation.\n",
    "\n",
    "The [user guide](https://scikit-learn.org/stable/user_guide.html) provides an overview over different models types.\n",
    "\n",
    "In the family of *supervise learning* methods, it lists for example\n",
    "- [`LinearRegression`](https://scikit-learn.org/stable/modules/generated/sklearn.linear_model.LinearRegression.html) as part of [1.1 Generalized Linear Models](https://scikit-learn.org/stable/modules/linear_model.html) or\n",
    "- [`DecisionTreeClassifier`](https://scikit-learn.org/stable/modules/generated/sklearn.tree.DecisionTreeClassifier.html) as part of [1.10. Decision Trees](https://scikit-learn.org/stable/modules/tree.html).\n",
    "\n",
    "These are models (=estimators=functions $f$ in the ISL setting) that you will get to know during the course.\n",
    "\n",
    "Expressed in code, making such a choice amounts to the following."
   ]
  },
  {
   "cell_type": "code",
   "execution_count": 17,
   "metadata": {
    "colab": {
     "base_uri": "https://localhost:8080/",
     "height": 34
    },
    "colab_type": "code",
    "id": "fqPxIwCP1x5U",
    "outputId": "02cfeaa1-231a-450c-f25b-ff2a79c641cf"
   },
   "outputs": [
    {
     "data": {
      "text/plain": [
       "LinearRegression()"
      ]
     },
     "execution_count": 17,
     "metadata": {},
     "output_type": "execute_result"
    }
   ],
   "source": [
    "from sklearn.linear_model import LinearRegression\n",
    "\n",
    "# LinarRegression is the class\n",
    "# model is the instance\n",
    "model = LinearRegression()  # <-- this is f\n",
    "model"
   ]
  },
  {
   "cell_type": "code",
   "execution_count": 18,
   "metadata": {
    "colab": {
     "base_uri": "https://localhost:8080/",
     "height": 119
    },
    "colab_type": "code",
    "id": "ukOXr1Ji1x5Z",
    "outputId": "b3eae265-0814-4ad5-a9e5-5601c526626e"
   },
   "outputs": [
    {
     "data": {
      "text/plain": [
       "DecisionTreeClassifier()"
      ]
     },
     "execution_count": 18,
     "metadata": {},
     "output_type": "execute_result"
    }
   ],
   "source": [
    "from sklearn.tree import DecisionTreeClassifier\n",
    "\n",
    "model = DecisionTreeClassifier()  # <-- this is f\n",
    "model"
   ]
  },
  {
   "cell_type": "markdown",
   "metadata": {
    "colab_type": "text",
    "id": "L9ZRXw2Q1x5c"
   },
   "source": [
    "#### Example: $f$ As Linear Function\n",
    "\n",
    "For simplicity, let's assume above equation takes the following specific form of a linear equation:\n",
    "\n",
    "$$y = 2* x + 3 = f(x).$$\n",
    "\n",
    "(Of course, the explicit form of $f$ is usually not known.)\n",
    "\n",
    "By providing some date we can use scikit-learn to mimic above formula."
   ]
  },
  {
   "cell_type": "code",
   "execution_count": 19,
   "metadata": {
    "colab": {
     "base_uri": "https://localhost:8080/"
    },
    "colab_type": "code",
    "id": "0Bsrd_Nd1x5c",
    "outputId": "0de84da4-4887-4998-b9e8-8cd17fd4a3fb"
   },
   "outputs": [
    {
     "data": {
      "text/plain": [
       "array([5, 7])"
      ]
     },
     "execution_count": 19,
     "metadata": {},
     "output_type": "execute_result"
    }
   ],
   "source": [
    "import numpy as np\n",
    "# define data\n",
    "X = np.array([[1], [2]])\n",
    "# define coefficients and intercept\n",
    "coeff = np.array([2])\n",
    "intercept = 3\n",
    "# compute y\n",
    "y = X @ coeff + 3\n",
    "y"
   ]
  },
  {
   "cell_type": "code",
   "execution_count": 20,
   "metadata": {
    "colab": {
     "base_uri": "https://localhost:8080/"
    },
    "colab_type": "code",
    "id": "pBFpByEG1x5f",
    "outputId": "6a1ec2ca-36d7-48b3-c341-3c417c67f4a2"
   },
   "outputs": [
    {
     "data": {
      "text/plain": [
       "[<matplotlib.lines.Line2D at 0x7f7ef5267a60>]"
      ]
     },
     "execution_count": 20,
     "metadata": {},
     "output_type": "execute_result"
    },
    {
     "data": {
      "image/png": "[encoded data removed]",
      "text/plain": [
       "<Figure size 432x288 with 1 Axes>"
      ]
     },
     "metadata": {
      "needs_background": "light"
     },
     "output_type": "display_data"
    }
   ],
   "source": [
    "# make a plot for verification\n",
    "import matplotlib.pyplot as plt\n",
    "%matplotlib inline\n",
    "plt.plot(X.ravel(), y, marker='o', linestyle='')"
   ]
  },
  {
   "cell_type": "markdown",
   "metadata": {
    "colab_type": "text",
    "id": "GYUFoMfh1x5h"
   },
   "source": [
    "We can now use scikit-learn to *learn the relationship between X and y from the data*."
   ]
  },
  {
   "cell_type": "code",
   "execution_count": 21,
   "metadata": {
    "colab": {
     "base_uri": "https://localhost:8080/"
    },
    "colab_type": "code",
    "id": "igH28vtu1x5i",
    "outputId": "08eea514-f319-446e-ac9f-cf6b2fc7f0f3"
   },
   "outputs": [
    {
     "data": {
      "text/plain": [
       "LinearRegression()"
      ]
     },
     "execution_count": 21,
     "metadata": {},
     "output_type": "execute_result"
    }
   ],
   "source": [
    "# chose a LinearRegression model corresponding to f\n",
    "model = LinearRegression()\n",
    "# fit the model to estimate (!) the parameters\n",
    "model.fit(X, y)"
   ]
  },
  {
   "cell_type": "markdown",
   "metadata": {
    "colab_type": "text",
    "id": "xInouR8A1x5k"
   },
   "source": [
    "Let's inspect the model to see if we got it right."
   ]
  },
  {
   "cell_type": "code",
   "execution_count": 22,
   "metadata": {
    "colab": {
     "base_uri": "https://localhost:8080/"
    },
    "colab_type": "code",
    "id": "QIbiuaQj1x5k",
    "outputId": "ca2fbf9e-cf2a-42b0-9927-a2398bc80a51"
   },
   "outputs": [
    {
     "data": {
      "text/plain": [
       "array([2.])"
      ]
     },
     "execution_count": 22,
     "metadata": {},
     "output_type": "execute_result"
    }
   ],
   "source": [
    "model.coef_  # compare with above coeff"
   ]
  },
  {
   "cell_type": "code",
   "execution_count": 23,
   "metadata": {
    "colab": {
     "base_uri": "https://localhost:8080/"
    },
    "colab_type": "code",
    "id": "275-y5Id1x5m",
    "outputId": "fedbff47-f526-4fac-f070-9d5d5c0feaa2"
   },
   "outputs": [
    {
     "data": {
      "text/plain": [
       "3.000000000000001"
      ]
     },
     "execution_count": 23,
     "metadata": {},
     "output_type": "execute_result"
    }
   ],
   "source": [
    "model.intercept_  # compare with above intercept"
   ]
  },
  {
   "cell_type": "markdown",
   "metadata": {
    "colab_type": "text",
    "id": "uD11tg_O1x5o"
   },
   "source": [
    "Indeed, the model was able to recover both the coefficient (2) as well as the intercept (3) given *only* the data `X` and `y`.\n",
    "\n",
    "In particular, we are now able *predict* $y$ for other inputs $X$ as well."
   ]
  },
  {
   "cell_type": "code",
   "execution_count": 24,
   "metadata": {
    "colab": {
     "base_uri": "https://localhost:8080/"
    },
    "colab_type": "code",
    "id": "sg-ejvCV1x5p",
    "outputId": "2a655e40-d20f-463d-e6b0-439e670a0330"
   },
   "outputs": [
    {
     "data": {
      "text/plain": [
       "array([1., 3., 5., 7., 9.])"
      ]
     },
     "execution_count": 24,
     "metadata": {},
     "output_type": "execute_result"
    }
   ],
   "source": [
    "# define some additional inputs for which we want to compute outputs\n",
    "X_other = np.array([[-1], [0], [1], [2], [3]])\n",
    "y_other = model.predict(X_other)\n",
    "y_other"
   ]
  },
  {
   "cell_type": "code",
   "execution_count": 25,
   "metadata": {
    "colab": {
     "base_uri": "https://localhost:8080/"
    },
    "colab_type": "code",
    "id": "QeJAD1Mr1x5s",
    "outputId": "1106b51e-c7ef-4460-8dcc-56ce770346c2"
   },
   "outputs": [
    {
     "data": {
      "text/plain": [
       "<matplotlib.legend.Legend at 0x7f7ef51cbe80>"
      ]
     },
     "execution_count": 25,
     "metadata": {},
     "output_type": "execute_result"
    },
    {
     "data": {
      "image/png": "[encoded data removed]",
      "text/plain": [
       "<Figure size 432x288 with 1 Axes>"
      ]
     },
     "metadata": {
      "needs_background": "light"
     },
     "output_type": "display_data"
    }
   ],
   "source": [
    "plt.plot(X.ravel(), y, marker='o', linestyle='', label='original data')\n",
    "plt.plot(X_other.ravel(), y_other, marker='x', label='prediciton')\n",
    "plt.legend()"
   ]
  },
  {
   "cell_type": "markdown",
   "metadata": {
    "colab_type": "text",
    "id": "e5WhzCqs1x5u"
   },
   "source": [
    "### Why Estimate $f$? - What is $\\hat{f}$?\n",
    "\n",
    "The introductory chapter \"2.1 What Is Statistical Learning\" in ISL introduces the notions *prediction* and *inference*.\n",
    "\n",
    "In particular, it introduces $\\hat{f}$ as estimate for $f$ in equation\n",
    "\n",
    "$$\\hat{Y} = \\hat{f}(X).$$\n",
    "\n",
    "\n",
    "#### $\\hat{f}$ in scikit-learn\n",
    "\n",
    "If our model $f$ is a scikit-learn estimator like `LinearRegression` or `DecisionTreeClassifier`, what is $\\hat{f}$?\n",
    "\n",
    "As mentioned above, $\\hat{f}$ is an estimate of $f$, i.e. what we (our model) learned about $f$ from the data.\n",
    "\n",
    "In scikit-learn, $\\hat{f}$ is obtained after executing the estimator's *fit* method."
   ]
  },
  {
   "cell_type": "code",
   "execution_count": 26,
   "metadata": {
    "colab": {
     "base_uri": "https://localhost:8080/",
     "height": 34
    },
    "colab_type": "code",
    "id": "_1gHPL8F1x5u",
    "outputId": "42d5f2e9-79cc-4b54-abd7-42a8de063a01"
   },
   "outputs": [
    {
     "data": {
      "text/plain": [
       "LinearRegression()"
      ]
     },
     "execution_count": 26,
     "metadata": {},
     "output_type": "execute_result"
    }
   ],
   "source": [
    "model = LinearRegression()  # <-- this is f\n",
    "model.fit(X, y)  # this is where we *learn from data*\n",
    "model # <-- this is f hat (!)"
   ]
  },
  {
   "cell_type": "markdown",
   "metadata": {
    "colab_type": "text",
    "id": "y20W3nqz1x5y"
   },
   "source": [
    "We can take a closer look by trying use the model as we did before."
   ]
  },
  {
   "cell_type": "code",
   "execution_count": 27,
   "metadata": {
    "colab": {},
    "colab_type": "code",
    "id": "A_nIP6CA1x5y"
   },
   "outputs": [],
   "source": [
    "model = LinearRegression()\n",
    "# model.coef_  # uncomment this line to see that coef_ does not yet exist\n",
    "\n",
    "#AttributeError: 'LinearRegression' object has no attribute 'coef_'"
   ]
  },
  {
   "cell_type": "code",
   "execution_count": 28,
   "metadata": {
    "colab": {},
    "colab_type": "code",
    "id": "afDyGW571x50"
   },
   "outputs": [],
   "source": [
    "# model.predict(X)  # uncomment this line to see you cannot predict if the model is not fitted\n",
    "\n",
    "# NotFittedError: This LinearRegression instance is not fitted yet. Call 'fit' with appropriate arguments before using this method."
   ]
  },
  {
   "cell_type": "markdown",
   "metadata": {
    "colab_type": "text",
    "id": "Os2xRRIt1x52"
   },
   "source": [
    "However, as the model is not fitted, we can neither inspect it's coefficients (they do not exist yet)\n",
    "nor can we use it to make a prediction.\n",
    "\n",
    "The situation changes once we call `fit`."
   ]
  },
  {
   "cell_type": "code",
   "execution_count": 29,
   "metadata": {
    "colab": {
     "base_uri": "https://localhost:8080/",
     "height": 34
    },
    "colab_type": "code",
    "id": "85dPUkIz1x52",
    "outputId": "031dd592-c8bc-429f-c95c-6d381fe26be3"
   },
   "outputs": [
    {
     "data": {
      "text/plain": [
       "array([2.])"
      ]
     },
     "execution_count": 29,
     "metadata": {},
     "output_type": "execute_result"
    }
   ],
   "source": [
    "model.fit(X, y)\n",
    "model.coef_  # now this works"
   ]
  },
  {
   "cell_type": "code",
   "execution_count": 30,
   "metadata": {
    "colab": {
     "base_uri": "https://localhost:8080/",
     "height": 34
    },
    "colab_type": "code",
    "id": "mJpxWO191x54",
    "outputId": "218433a1-8a3e-4688-b851-2edf349e28ce"
   },
   "outputs": [
    {
     "data": {
      "text/plain": [
       "array([5., 7.])"
      ]
     },
     "execution_count": 30,
     "metadata": {},
     "output_type": "execute_result"
    }
   ],
   "source": [
    "model.predict(X)  # now this works"
   ]
  },
  {
   "cell_type": "markdown",
   "metadata": {
    "colab_type": "text",
    "id": "H-AreRfi1x57"
   },
   "source": [
    "### Estimating $\\hat{f}$, Training/Fitting a Model\n",
    "\n",
    "The process of estimating $\\hat{f}$ is often referred to as *training* or *fitting* a model.\n",
    "The term fitting is used because we want to model to adjust itself to the data.\n",
    "\n",
    "Hence, in scikit-learn, to train a model, you do `model.fit(X, y)` to estimate $\\hat{f}$."
   ]
  },
  {
   "cell_type": "markdown",
   "metadata": {
    "colab_type": "text",
    "id": "n3nrteRH1x58"
   },
   "source": [
    "### Estimating $\\hat{Y}$, Prediction\n",
    "\n",
    "Once a model is fitted, in can be used for prediction purposes as we already did above."
   ]
  },
  {
   "cell_type": "code",
   "execution_count": 31,
   "metadata": {
    "colab": {
     "base_uri": "https://localhost:8080/",
     "height": 34
    },
    "colab_type": "code",
    "id": "xczAeLq01x59",
    "outputId": "8e326b8d-6bd1-47eb-a4af-609b4e18528d"
   },
   "outputs": [
    {
     "data": {
      "text/plain": [
       "array([5., 7.])"
      ]
     },
     "execution_count": 31,
     "metadata": {},
     "output_type": "execute_result"
    }
   ],
   "source": [
    "y_pred = model.predict(X)  # <-- this is our prediction\n",
    "y_pred"
   ]
  },
  {
   "cell_type": "code",
   "execution_count": 32,
   "metadata": {
    "colab": {
     "base_uri": "https://localhost:8080/",
     "height": 34
    },
    "colab_type": "code",
    "id": "EyvWQMm21x5-",
    "outputId": "32930b3d-eaf3-4ce1-8e26-4a613ca97b89"
   },
   "outputs": [
    {
     "data": {
      "text/plain": [
       "array([5, 7])"
      ]
     },
     "execution_count": 32,
     "metadata": {},
     "output_type": "execute_result"
    }
   ],
   "source": [
    "y  # original for comparison"
   ]
  },
  {
   "cell_type": "markdown",
   "metadata": {
    "colab_type": "text",
    "id": "XWjmeFR91x6C"
   },
   "source": [
    "In our example, the prediction we obtain matches the original output exactly. This is the case because our data set consists of only two  (and different) points and there is only one possible line going through these points. With real data, this is usually *not* the case."
   ]
  },
  {
   "cell_type": "markdown",
   "metadata": {
    "colab_type": "text",
    "id": "xlHGDhSS1x6C"
   },
   "source": [
    "### Scikit-Learn Models are Classes\n",
    "\n",
    "All models in scikit-learn are classes. They encapsulate data, e.g. the coefficients, and functions (methods) that operate on that data, e.g. the predict method.\n",
    "\n",
    "In scikit-learn, working with a model *always* follows the same pattern:"
   ]
  },
  {
   "cell_type": "code",
   "execution_count": 33,
   "metadata": {
    "colab": {
     "base_uri": "https://localhost:8080/",
     "height": 34
    },
    "colab_type": "code",
    "id": "zCMnmPnx1x6E",
    "outputId": "d171e682-3610-4182-d780-d48c0117d258"
   },
   "outputs": [
    {
     "data": {
      "text/plain": [
       "sklearn.linear_model._base.LinearRegression"
      ]
     },
     "execution_count": 33,
     "metadata": {},
     "output_type": "execute_result"
    }
   ],
   "source": [
    "# 1. Chose a model depending on your problem\n",
    "# in this case we opt for a linear regression model\n",
    "from sklearn.linear_model import LinearRegression\n",
    "LinearRegression"
   ]
  },
  {
   "cell_type": "code",
   "execution_count": 34,
   "metadata": {
    "colab": {
     "base_uri": "https://localhost:8080/",
     "height": 34
    },
    "colab_type": "code",
    "id": "FW7fJfe11x6G",
    "outputId": "3592e832-5875-43d1-fcda-c5c4a33a9a48"
   },
   "outputs": [
    {
     "data": {
      "text/plain": [
       "LinearRegression()"
      ]
     },
     "execution_count": 34,
     "metadata": {},
     "output_type": "execute_result"
    }
   ],
   "source": [
    "# 2. Create an instance\n",
    "reg = LinearRegression()  # usually you pass in some parameters here\n",
    "reg"
   ]
  },
  {
   "cell_type": "code",
   "execution_count": 35,
   "metadata": {
    "colab": {
     "base_uri": "https://localhost:8080/",
     "height": 34
    },
    "colab_type": "code",
    "id": "nyK4-BZO1x6I",
    "outputId": "9bd9169c-80ac-4f0e-c8e9-4315397eed0e"
   },
   "outputs": [
    {
     "data": {
      "text/plain": [
       "LinearRegression()"
      ]
     },
     "execution_count": 35,
     "metadata": {},
     "output_type": "execute_result"
    }
   ],
   "source": [
    "# 3. Train the model by calling its fit method and passing data\n",
    "reg.fit(X, y)"
   ]
  },
  {
   "cell_type": "code",
   "execution_count": 36,
   "metadata": {
    "colab": {
     "base_uri": "https://localhost:8080/",
     "height": 34
    },
    "colab_type": "code",
    "id": "c28KgPm-1x6L",
    "outputId": "2b136997-a02d-4945-e6be-5f8956dd92e7"
   },
   "outputs": [
    {
     "data": {
      "text/plain": [
       "array([5., 7.])"
      ]
     },
     "execution_count": 36,
     "metadata": {},
     "output_type": "execute_result"
    }
   ],
   "source": [
    "# 4. Use the model to e.g. make a prediction calling its predict method\n",
    "reg.predict(X)"
   ]
  },
  {
   "cell_type": "code",
   "execution_count": 37,
   "metadata": {
    "colab": {
     "base_uri": "https://localhost:8080/",
     "height": 34
    },
    "colab_type": "code",
    "id": "qSsZ6eid1x6N",
    "outputId": "a0b80021-a954-4c2e-defb-c06e2cfb92b4"
   },
   "outputs": [
    {
     "data": {
      "text/plain": [
       "array([2.])"
      ]
     },
     "execution_count": 37,
     "metadata": {},
     "output_type": "execute_result"
    }
   ],
   "source": [
    "# or otherwise inspect its properties\n",
    "reg.coef_"
   ]
  },
  {
   "cell_type": "markdown",
   "metadata": {
    "colab_type": "text",
    "id": "MzPBR0gy1x6Q"
   },
   "source": [
    "## Concluding Remarks\n",
    "\n",
    "In this chapter, we have introduced a lot of terminology and established the link between the formulas and concepts in ISL and their correspondence in Python.\n",
    "\n",
    "Above notions will be revisited again during the course and lay the foundations to achieve our goal of *learning from data*."
   ]
  },
  {
   "cell_type": "markdown",
   "metadata": {
    "colab_type": "text",
    "id": "Mes1ESMZ1x6R"
   },
   "source": [
    "## Further Reading\n",
    "\n",
    "- [Python Tutorial](https://docs.python.org/3/tutorial/index.html) (highly recommended)\n",
    "- [Python Glossary](https://docs.python.org/3/glossary.html)\n",
    "- [10 minutes to pandas](https://pandas.pydata.org/pandas-docs/stable/getting_started/10min.html)\n",
    "- [scikit-learn Tutorials](https://scikit-learn.org/stable/tutorial/index.html)\n",
    "- [scikit-learn Glossary](https://scikit-learn.org/stable/glossary.html)"
   ]
  }
 ],
 "metadata": {
  "colab": {
   "collapsed_sections": [
    "L9ZRXw2Q1x5c"
   ],
   "name": "glossary.ipynb",
   "provenance": [],
   "toc_visible": true
  },
  "kernelspec": {
   "display_name": "Python 3",
   "language": "python",
   "name": "python3"
  },
  "language_info": {
   "codemirror_mode": {
    "name": "ipython",
    "version": 3
   },
   "file_extension": ".py",
   "mimetype": "text/x-python",
   "name": "python",
   "nbconvert_exporter": "python",
   "pygments_lexer": "ipython3",
   "version": "3.8.5"
  },
  "toc": {
   "base_numbering": 1,
   "nav_menu": {},
   "number_sections": true,
   "sideBar": true,
   "skip_h1_title": true,
   "title_cell": "Table of Contents",
   "title_sidebar": "Contents",
   "toc_cell": false,
   "toc_position": {},
   "toc_section_display": true,
   "toc_window_display": true
  }
 },
 "nbformat": 4,
 "nbformat_minor": 4
}
