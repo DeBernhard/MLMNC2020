{
 "cells": [
  {
   "cell_type": "markdown",
   "metadata": {
    "slideshow": {
     "slide_type": "slide"
    }
   },
   "source": [
    "# Completing the Picture II\n",
    "\n",
    "*Review, missing pieces and projects*"
   ]
  },
  {
   "cell_type": "markdown",
   "metadata": {
    "slideshow": {
     "slide_type": "slide"
    }
   },
   "source": [
    "## Today\n",
    "\n",
    "1. Theory\n",
    "  - Classification\n",
    "  - Categorical data\n",
    "  - Supplements\n",
    "1. Exercises and questions\n",
    "  - General feedback on submissions\n",
    "  - Dicussion and solution\n",
    "1. Group projects\n",
    "  - Documents and deadlines\n",
    "  - Group allocation\n",
    "  - Checklist"
   ]
  },
  {
   "cell_type": "markdown",
   "metadata": {
    "slideshow": {
     "slide_type": "slide"
    }
   },
   "source": [
    "# Classification\n",
    "\n",
    "Dealing with *qualitative* response variables.\n",
    "\n",
    "---\n",
    "\n",
    "Based on ISL."
   ]
  },
  {
   "cell_type": "markdown",
   "metadata": {
    "slideshow": {
     "slide_type": "subslide"
    }
   },
   "source": [
    "## Why Not Linear Regression?\n",
    "\n",
    "Encoding should not matter:\n",
    "- Numerical/quantitative representation of categories should be irrelevant\n",
    "- Linear regression implies ordering\n",
    "\n",
    "We are often interested in probabilities, i.e. values $\\in [0,1]$:\n",
    "- How likely is a certain outcome?\n",
    "- Output of linear regression is unbound (cf. discussion of advertising data)\n"
   ]
  },
  {
   "cell_type": "markdown",
   "metadata": {
    "slideshow": {
     "slide_type": "subslide"
    }
   },
   "source": [
    "## Logistic Regression\n",
    "\n",
    "Idea:\n",
    "- Transform output of linear regression using a sigmoid function\n",
    "\n",
    "<img src=\"../images/isl/isl_4.2_logistic_regression.png\" alt=\"Accuracy, precision and bias\" width=\"600\">"
   ]
  },
  {
   "cell_type": "markdown",
   "metadata": {
    "slideshow": {
     "slide_type": "subslide"
    }
   },
   "source": [
    "Comments:\n",
    "- Despite its name, logistic regression is a classification method\n",
    "- Logistic regression is a special case of [Generalized linear models](https://en.wikipedia.org/wiki/Generalized_linear_model#Link_function)\n",
    "- In scikit-learn: [Logisitic Regression](https://scikit-learn.org/stable/modules/generated/sklearn.linear_model.LogisticRegression.html#sklearn.linear_model.LogisticRegression)"
   ]
  },
  {
   "cell_type": "code",
   "execution_count": 1,
   "metadata": {
    "slideshow": {
     "slide_type": "subslide"
    }
   },
   "outputs": [
    {
     "name": "stdout",
     "output_type": "stream",
     "text": [
      "X:\n",
      "[[5.1 3.5 1.4 0.2]\n",
      " [4.9 3.  1.4 0.2]\n",
      " [4.7 3.2 1.3 0.2]\n",
      " [4.6 3.1 1.5 0.2]\n",
      " [5.  3.6 1.4 0.2]]\n",
      "y:\n",
      "[0 0 0 0 0]\n",
      "np.unique(y): [0 1 2]\n"
     ]
    }
   ],
   "source": [
    "import numpy as np\n",
    "from sklearn.datasets import load_iris\n",
    "from sklearn.linear_model import LogisticRegression\n",
    "X, y = load_iris(return_X_y=True)\n",
    "print('X:', X[:5, :], sep='\\n')\n",
    "print('y:', y[:5], sep='\\n')\n",
    "print('np.unique(y):', np.unique(y))"
   ]
  },
  {
   "cell_type": "code",
   "execution_count": 3,
   "metadata": {
    "slideshow": {
     "slide_type": "subslide"
    }
   },
   "outputs": [
    {
     "data": {
      "text/plain": [
       "array([0, 0])"
      ]
     },
     "execution_count": 3,
     "metadata": {},
     "output_type": "execute_result"
    }
   ],
   "source": [
    "# create model\n",
    "clf = LogisticRegression(solver='lbfgs', multi_class='multinomial', max_iter=500)\n",
    "# fit\n",
    "clf.fit(X, y)\n",
    "# predict\n",
    "clf.predict(X[:2])"
   ]
  },
  {
   "cell_type": "code",
   "execution_count": 4,
   "metadata": {
    "slideshow": {
     "slide_type": "fragment"
    }
   },
   "outputs": [
    {
     "data": {
      "text/plain": [
       "array([[9.81583877e-01, 1.84161087e-02, 1.44880099e-08],\n",
       "       [9.71342893e-01, 2.86570769e-02, 3.01615124e-08]])"
      ]
     },
     "execution_count": 4,
     "metadata": {},
     "output_type": "execute_result"
    }
   ],
   "source": [
    "# predict class probabilities\n",
    "clf.predict_proba(X[:2]) "
   ]
  },
  {
   "cell_type": "code",
   "execution_count": 5,
   "metadata": {
    "slideshow": {
     "slide_type": "fragment"
    }
   },
   "outputs": [
    {
     "data": {
      "text/plain": [
       "0.9733333333333334"
      ]
     },
     "execution_count": 5,
     "metadata": {},
     "output_type": "execute_result"
    }
   ],
   "source": [
    "# compute score\n",
    "clf.score(X, y)"
   ]
  },
  {
   "cell_type": "markdown",
   "metadata": {
    "slideshow": {
     "slide_type": "slide"
    }
   },
   "source": [
    "## Categorical Data\n",
    "\n",
    "Dealing with *categorical* data.\n",
    "\n",
    "---\n",
    "\n",
    "Group projects: it may be necessary to *preprocess* the data"
   ]
  },
  {
   "cell_type": "markdown",
   "metadata": {
    "slideshow": {
     "slide_type": "subslide"
    }
   },
   "source": [
    "### Describing non-numerical values\n",
    "\n",
    "Q:\n",
    "- How do we compute a summary statistics for non-numerical values?\n",
    "\n",
    "A:\n",
    "- We treat them differently."
   ]
  },
  {
   "cell_type": "code",
   "execution_count": 5,
   "metadata": {
    "slideshow": {
     "slide_type": "subslide"
    }
   },
   "outputs": [
    {
     "data": {
      "text/html": [
       "<div>\n",
       "<style scoped>\n",
       "    .dataframe tbody tr th:only-of-type {\n",
       "        vertical-align: middle;\n",
       "    }\n",
       "\n",
       "    .dataframe tbody tr th {\n",
       "        vertical-align: top;\n",
       "    }\n",
       "\n",
       "    .dataframe thead th {\n",
       "        text-align: right;\n",
       "    }\n",
       "</style>\n",
       "<table border=\"1\" class=\"dataframe\">\n",
       "  <thead>\n",
       "    <tr style=\"text-align: right;\">\n",
       "      <th></th>\n",
       "      <th>total_bill</th>\n",
       "      <th>tip</th>\n",
       "      <th>sex</th>\n",
       "      <th>smoker</th>\n",
       "      <th>day</th>\n",
       "      <th>time</th>\n",
       "      <th>size</th>\n",
       "    </tr>\n",
       "  </thead>\n",
       "  <tbody>\n",
       "    <tr>\n",
       "      <td>0</td>\n",
       "      <td>16.99</td>\n",
       "      <td>1.01</td>\n",
       "      <td>Female</td>\n",
       "      <td>No</td>\n",
       "      <td>Sun</td>\n",
       "      <td>Dinner</td>\n",
       "      <td>2</td>\n",
       "    </tr>\n",
       "    <tr>\n",
       "      <td>1</td>\n",
       "      <td>10.34</td>\n",
       "      <td>1.66</td>\n",
       "      <td>Male</td>\n",
       "      <td>No</td>\n",
       "      <td>Sun</td>\n",
       "      <td>Dinner</td>\n",
       "      <td>3</td>\n",
       "    </tr>\n",
       "    <tr>\n",
       "      <td>2</td>\n",
       "      <td>21.01</td>\n",
       "      <td>3.50</td>\n",
       "      <td>Male</td>\n",
       "      <td>No</td>\n",
       "      <td>Sun</td>\n",
       "      <td>Dinner</td>\n",
       "      <td>3</td>\n",
       "    </tr>\n",
       "    <tr>\n",
       "      <td>3</td>\n",
       "      <td>23.68</td>\n",
       "      <td>3.31</td>\n",
       "      <td>Male</td>\n",
       "      <td>No</td>\n",
       "      <td>Sun</td>\n",
       "      <td>Dinner</td>\n",
       "      <td>2</td>\n",
       "    </tr>\n",
       "    <tr>\n",
       "      <td>4</td>\n",
       "      <td>24.59</td>\n",
       "      <td>3.61</td>\n",
       "      <td>Female</td>\n",
       "      <td>No</td>\n",
       "      <td>Sun</td>\n",
       "      <td>Dinner</td>\n",
       "      <td>4</td>\n",
       "    </tr>\n",
       "    <tr>\n",
       "      <td>...</td>\n",
       "      <td>...</td>\n",
       "      <td>...</td>\n",
       "      <td>...</td>\n",
       "      <td>...</td>\n",
       "      <td>...</td>\n",
       "      <td>...</td>\n",
       "      <td>...</td>\n",
       "    </tr>\n",
       "    <tr>\n",
       "      <td>239</td>\n",
       "      <td>29.03</td>\n",
       "      <td>5.92</td>\n",
       "      <td>Male</td>\n",
       "      <td>No</td>\n",
       "      <td>Sat</td>\n",
       "      <td>Dinner</td>\n",
       "      <td>3</td>\n",
       "    </tr>\n",
       "    <tr>\n",
       "      <td>240</td>\n",
       "      <td>27.18</td>\n",
       "      <td>2.00</td>\n",
       "      <td>Female</td>\n",
       "      <td>Yes</td>\n",
       "      <td>Sat</td>\n",
       "      <td>Dinner</td>\n",
       "      <td>2</td>\n",
       "    </tr>\n",
       "    <tr>\n",
       "      <td>241</td>\n",
       "      <td>22.67</td>\n",
       "      <td>2.00</td>\n",
       "      <td>Male</td>\n",
       "      <td>Yes</td>\n",
       "      <td>Sat</td>\n",
       "      <td>Dinner</td>\n",
       "      <td>2</td>\n",
       "    </tr>\n",
       "    <tr>\n",
       "      <td>242</td>\n",
       "      <td>17.82</td>\n",
       "      <td>1.75</td>\n",
       "      <td>Male</td>\n",
       "      <td>No</td>\n",
       "      <td>Sat</td>\n",
       "      <td>Dinner</td>\n",
       "      <td>2</td>\n",
       "    </tr>\n",
       "    <tr>\n",
       "      <td>243</td>\n",
       "      <td>18.78</td>\n",
       "      <td>3.00</td>\n",
       "      <td>Female</td>\n",
       "      <td>No</td>\n",
       "      <td>Thur</td>\n",
       "      <td>Dinner</td>\n",
       "      <td>2</td>\n",
       "    </tr>\n",
       "  </tbody>\n",
       "</table>\n",
       "<p>244 rows × 7 columns</p>\n",
       "</div>"
      ],
      "text/plain": [
       "     total_bill   tip     sex smoker   day    time  size\n",
       "0         16.99  1.01  Female     No   Sun  Dinner     2\n",
       "1         10.34  1.66    Male     No   Sun  Dinner     3\n",
       "2         21.01  3.50    Male     No   Sun  Dinner     3\n",
       "3         23.68  3.31    Male     No   Sun  Dinner     2\n",
       "4         24.59  3.61  Female     No   Sun  Dinner     4\n",
       "..          ...   ...     ...    ...   ...     ...   ...\n",
       "239       29.03  5.92    Male     No   Sat  Dinner     3\n",
       "240       27.18  2.00  Female    Yes   Sat  Dinner     2\n",
       "241       22.67  2.00    Male    Yes   Sat  Dinner     2\n",
       "242       17.82  1.75    Male     No   Sat  Dinner     2\n",
       "243       18.78  3.00  Female     No  Thur  Dinner     2\n",
       "\n",
       "[244 rows x 7 columns]"
      ]
     },
     "execution_count": 5,
     "metadata": {},
     "output_type": "execute_result"
    }
   ],
   "source": [
    "import pandas as pd\n",
    "import seaborn as sns\n",
    "\n",
    "%matplotlib inline\n",
    "df = pd.read_csv('https://raw.githubusercontent.com/mwaskom/seaborn-data/master/tips.csv')\n",
    "df"
   ]
  },
  {
   "cell_type": "code",
   "execution_count": 6,
   "metadata": {
    "slideshow": {
     "slide_type": "subslide"
    }
   },
   "outputs": [
    {
     "data": {
      "text/html": [
       "<div>\n",
       "<style scoped>\n",
       "    .dataframe tbody tr th:only-of-type {\n",
       "        vertical-align: middle;\n",
       "    }\n",
       "\n",
       "    .dataframe tbody tr th {\n",
       "        vertical-align: top;\n",
       "    }\n",
       "\n",
       "    .dataframe thead th {\n",
       "        text-align: right;\n",
       "    }\n",
       "</style>\n",
       "<table border=\"1\" class=\"dataframe\">\n",
       "  <thead>\n",
       "    <tr style=\"text-align: right;\">\n",
       "      <th></th>\n",
       "      <th>total_bill</th>\n",
       "      <th>tip</th>\n",
       "      <th>size</th>\n",
       "    </tr>\n",
       "  </thead>\n",
       "  <tbody>\n",
       "    <tr>\n",
       "      <td>count</td>\n",
       "      <td>244.000000</td>\n",
       "      <td>244.000000</td>\n",
       "      <td>244.000000</td>\n",
       "    </tr>\n",
       "    <tr>\n",
       "      <td>mean</td>\n",
       "      <td>19.785943</td>\n",
       "      <td>2.998279</td>\n",
       "      <td>2.569672</td>\n",
       "    </tr>\n",
       "    <tr>\n",
       "      <td>std</td>\n",
       "      <td>8.902412</td>\n",
       "      <td>1.383638</td>\n",
       "      <td>0.951100</td>\n",
       "    </tr>\n",
       "    <tr>\n",
       "      <td>min</td>\n",
       "      <td>3.070000</td>\n",
       "      <td>1.000000</td>\n",
       "      <td>1.000000</td>\n",
       "    </tr>\n",
       "    <tr>\n",
       "      <td>25%</td>\n",
       "      <td>13.347500</td>\n",
       "      <td>2.000000</td>\n",
       "      <td>2.000000</td>\n",
       "    </tr>\n",
       "    <tr>\n",
       "      <td>50%</td>\n",
       "      <td>17.795000</td>\n",
       "      <td>2.900000</td>\n",
       "      <td>2.000000</td>\n",
       "    </tr>\n",
       "    <tr>\n",
       "      <td>75%</td>\n",
       "      <td>24.127500</td>\n",
       "      <td>3.562500</td>\n",
       "      <td>3.000000</td>\n",
       "    </tr>\n",
       "    <tr>\n",
       "      <td>max</td>\n",
       "      <td>50.810000</td>\n",
       "      <td>10.000000</td>\n",
       "      <td>6.000000</td>\n",
       "    </tr>\n",
       "  </tbody>\n",
       "</table>\n",
       "</div>"
      ],
      "text/plain": [
       "       total_bill         tip        size\n",
       "count  244.000000  244.000000  244.000000\n",
       "mean    19.785943    2.998279    2.569672\n",
       "std      8.902412    1.383638    0.951100\n",
       "min      3.070000    1.000000    1.000000\n",
       "25%     13.347500    2.000000    2.000000\n",
       "50%     17.795000    2.900000    2.000000\n",
       "75%     24.127500    3.562500    3.000000\n",
       "max     50.810000   10.000000    6.000000"
      ]
     },
     "execution_count": 6,
     "metadata": {},
     "output_type": "execute_result"
    }
   ],
   "source": [
    "# default summary statistics only covers numerical variables\n",
    "df.describe()"
   ]
  },
  {
   "cell_type": "code",
   "execution_count": 7,
   "metadata": {
    "slideshow": {
     "slide_type": "subslide"
    }
   },
   "outputs": [
    {
     "data": {
      "text/html": [
       "<div>\n",
       "<style scoped>\n",
       "    .dataframe tbody tr th:only-of-type {\n",
       "        vertical-align: middle;\n",
       "    }\n",
       "\n",
       "    .dataframe tbody tr th {\n",
       "        vertical-align: top;\n",
       "    }\n",
       "\n",
       "    .dataframe thead th {\n",
       "        text-align: right;\n",
       "    }\n",
       "</style>\n",
       "<table border=\"1\" class=\"dataframe\">\n",
       "  <thead>\n",
       "    <tr style=\"text-align: right;\">\n",
       "      <th></th>\n",
       "      <th>total_bill</th>\n",
       "      <th>tip</th>\n",
       "      <th>sex</th>\n",
       "      <th>smoker</th>\n",
       "      <th>day</th>\n",
       "      <th>time</th>\n",
       "      <th>size</th>\n",
       "    </tr>\n",
       "  </thead>\n",
       "  <tbody>\n",
       "    <tr>\n",
       "      <td>count</td>\n",
       "      <td>244.000000</td>\n",
       "      <td>244.000000</td>\n",
       "      <td>244</td>\n",
       "      <td>244</td>\n",
       "      <td>244</td>\n",
       "      <td>244</td>\n",
       "      <td>244.000000</td>\n",
       "    </tr>\n",
       "    <tr>\n",
       "      <td>unique</td>\n",
       "      <td>NaN</td>\n",
       "      <td>NaN</td>\n",
       "      <td>2</td>\n",
       "      <td>2</td>\n",
       "      <td>4</td>\n",
       "      <td>2</td>\n",
       "      <td>NaN</td>\n",
       "    </tr>\n",
       "    <tr>\n",
       "      <td>top</td>\n",
       "      <td>NaN</td>\n",
       "      <td>NaN</td>\n",
       "      <td>Male</td>\n",
       "      <td>No</td>\n",
       "      <td>Sat</td>\n",
       "      <td>Dinner</td>\n",
       "      <td>NaN</td>\n",
       "    </tr>\n",
       "    <tr>\n",
       "      <td>freq</td>\n",
       "      <td>NaN</td>\n",
       "      <td>NaN</td>\n",
       "      <td>157</td>\n",
       "      <td>151</td>\n",
       "      <td>87</td>\n",
       "      <td>176</td>\n",
       "      <td>NaN</td>\n",
       "    </tr>\n",
       "    <tr>\n",
       "      <td>mean</td>\n",
       "      <td>19.785943</td>\n",
       "      <td>2.998279</td>\n",
       "      <td>NaN</td>\n",
       "      <td>NaN</td>\n",
       "      <td>NaN</td>\n",
       "      <td>NaN</td>\n",
       "      <td>2.569672</td>\n",
       "    </tr>\n",
       "    <tr>\n",
       "      <td>std</td>\n",
       "      <td>8.902412</td>\n",
       "      <td>1.383638</td>\n",
       "      <td>NaN</td>\n",
       "      <td>NaN</td>\n",
       "      <td>NaN</td>\n",
       "      <td>NaN</td>\n",
       "      <td>0.951100</td>\n",
       "    </tr>\n",
       "    <tr>\n",
       "      <td>min</td>\n",
       "      <td>3.070000</td>\n",
       "      <td>1.000000</td>\n",
       "      <td>NaN</td>\n",
       "      <td>NaN</td>\n",
       "      <td>NaN</td>\n",
       "      <td>NaN</td>\n",
       "      <td>1.000000</td>\n",
       "    </tr>\n",
       "    <tr>\n",
       "      <td>25%</td>\n",
       "      <td>13.347500</td>\n",
       "      <td>2.000000</td>\n",
       "      <td>NaN</td>\n",
       "      <td>NaN</td>\n",
       "      <td>NaN</td>\n",
       "      <td>NaN</td>\n",
       "      <td>2.000000</td>\n",
       "    </tr>\n",
       "    <tr>\n",
       "      <td>50%</td>\n",
       "      <td>17.795000</td>\n",
       "      <td>2.900000</td>\n",
       "      <td>NaN</td>\n",
       "      <td>NaN</td>\n",
       "      <td>NaN</td>\n",
       "      <td>NaN</td>\n",
       "      <td>2.000000</td>\n",
       "    </tr>\n",
       "    <tr>\n",
       "      <td>75%</td>\n",
       "      <td>24.127500</td>\n",
       "      <td>3.562500</td>\n",
       "      <td>NaN</td>\n",
       "      <td>NaN</td>\n",
       "      <td>NaN</td>\n",
       "      <td>NaN</td>\n",
       "      <td>3.000000</td>\n",
       "    </tr>\n",
       "    <tr>\n",
       "      <td>max</td>\n",
       "      <td>50.810000</td>\n",
       "      <td>10.000000</td>\n",
       "      <td>NaN</td>\n",
       "      <td>NaN</td>\n",
       "      <td>NaN</td>\n",
       "      <td>NaN</td>\n",
       "      <td>6.000000</td>\n",
       "    </tr>\n",
       "  </tbody>\n",
       "</table>\n",
       "</div>"
      ],
      "text/plain": [
       "        total_bill         tip   sex smoker  day    time        size\n",
       "count   244.000000  244.000000   244    244  244     244  244.000000\n",
       "unique         NaN         NaN     2      2    4       2         NaN\n",
       "top            NaN         NaN  Male     No  Sat  Dinner         NaN\n",
       "freq           NaN         NaN   157    151   87     176         NaN\n",
       "mean     19.785943    2.998279   NaN    NaN  NaN     NaN    2.569672\n",
       "std       8.902412    1.383638   NaN    NaN  NaN     NaN    0.951100\n",
       "min       3.070000    1.000000   NaN    NaN  NaN     NaN    1.000000\n",
       "25%      13.347500    2.000000   NaN    NaN  NaN     NaN    2.000000\n",
       "50%      17.795000    2.900000   NaN    NaN  NaN     NaN    2.000000\n",
       "75%      24.127500    3.562500   NaN    NaN  NaN     NaN    3.000000\n",
       "max      50.810000   10.000000   NaN    NaN  NaN     NaN    6.000000"
      ]
     },
     "execution_count": 7,
     "metadata": {},
     "output_type": "execute_result"
    }
   ],
   "source": [
    "# we can include all by setting the corresponding paramter\n",
    "df.describe(include='all')"
   ]
  },
  {
   "cell_type": "code",
   "execution_count": 8,
   "metadata": {
    "slideshow": {
     "slide_type": "subslide"
    }
   },
   "outputs": [
    {
     "name": "stdout",
     "output_type": "stream",
     "text": [
      "sex:\n",
      "Male      157\n",
      "Female     87\n",
      "Name: sex, dtype: int64\n",
      "\n",
      "smoker:\n",
      "No     151\n",
      "Yes     93\n",
      "Name: smoker, dtype: int64\n",
      "\n",
      "day:\n",
      "Sat     87\n",
      "Sun     76\n",
      "Thur    62\n",
      "Fri     19\n",
      "Name: day, dtype: int64\n",
      "\n",
      "time:\n",
      "Dinner    176\n",
      "Lunch      68\n",
      "Name: time, dtype: int64\n"
     ]
    }
   ],
   "source": [
    "# however, to obtain a better undestanding, it may make sense to look at them\n",
    "# separately\n",
    "print('sex:', df['sex'].value_counts(), sep='\\n')\n",
    "print()\n",
    "print('smoker:', df['smoker'].value_counts(), sep='\\n')\n",
    "print()\n",
    "print('day:', df['day'].value_counts(), sep='\\n')\n",
    "print()\n",
    "print('time:', df['time'].value_counts(), sep='\\n')"
   ]
  },
  {
   "cell_type": "code",
   "execution_count": 9,
   "metadata": {
    "slideshow": {
     "slide_type": "subslide"
    }
   },
   "outputs": [
    {
     "data": {
      "image/png": "[encoded data removed]",
      "text/plain": [
       "<Figure size 720x720 with 9 Axes>"
      ]
     },
     "metadata": {
      "needs_background": "light"
     },
     "output_type": "display_data"
    }
   ],
   "source": [
    "axs = pd.plotting.scatter_matrix(df, figsize=(10, 10))"
   ]
  },
  {
   "cell_type": "markdown",
   "metadata": {
    "slideshow": {
     "slide_type": "subslide"
    }
   },
   "source": [
    "### Categorical plots\n",
    "\n",
    "Q:\n",
    "- How do we deal with categorical values in visualizations?\n",
    "\n",
    "A:\n",
    "- Different options, very common to use categories as grouping variables.\n",
    "\n",
    "\n",
    "See [seaborn](https://seaborn.pydata.org/api.html) for statistical data visualizations."
   ]
  },
  {
   "cell_type": "code",
   "execution_count": 20,
   "metadata": {
    "slideshow": {
     "slide_type": "subslide"
    }
   },
   "outputs": [
    {
     "data": {
      "text/plain": [
       "<matplotlib.axes._subplots.AxesSubplot at 0x7f3a01b84f10>"
      ]
     },
     "execution_count": 20,
     "metadata": {},
     "output_type": "execute_result"
    },
    {
     "data": {
      "image/png": "[encoded data removed]",
      "text/plain": [
       "<Figure size 432x288 with 1 Axes>"
      ]
     },
     "metadata": {
      "needs_background": "light"
     },
     "output_type": "display_data"
    }
   ],
   "source": [
    "import seaborn as sns\n",
    "\n",
    "sns.boxplot(data=df, y='tip', x='sex')"
   ]
  },
  {
   "cell_type": "code",
   "execution_count": 23,
   "metadata": {
    "slideshow": {
     "slide_type": "subslide"
    }
   },
   "outputs": [
    {
     "data": {
      "text/plain": [
       "<matplotlib.axes._subplots.AxesSubplot at 0x7f39faa5dc90>"
      ]
     },
     "execution_count": 23,
     "metadata": {},
     "output_type": "execute_result"
    },
    {
     "data": {
      "image/png": "[encoded data removed]",
      "text/plain": [
       "<Figure size 432x288 with 1 Axes>"
      ]
     },
     "metadata": {
      "needs_background": "light"
     },
     "output_type": "display_data"
    }
   ],
   "source": [
    "sns.boxplot(data=df, y='tip', x='day', order=['Fri', 'Thur', 'Sat', 'Sun'])"
   ]
  },
  {
   "cell_type": "markdown",
   "metadata": {
    "slideshow": {
     "slide_type": "subslide"
    }
   },
   "source": [
    "### Transforming non-numerical values\n",
    "\n",
    "Q:\n",
    "- How do we deal with non-numerical values?\n",
    "\n",
    "A:\n",
    "- We transform, i.e. encode them.\n",
    "\n",
    "---\n",
    "\n",
    "*Every continuous variable can be discretized/vectorized/categorized (with loss of information).*"
   ]
  },
  {
   "cell_type": "code",
   "execution_count": 10,
   "metadata": {
    "slideshow": {
     "slide_type": "subslide"
    }
   },
   "outputs": [
    {
     "name": "stdout",
     "output_type": "stream",
     "text": [
      "original:\n",
      "   total_bill   tip     sex smoker  day    time  size\n",
      "0       16.99  1.01  Female     No  Sun  Dinner     2\n",
      "1       10.34  1.66    Male     No  Sun  Dinner     3\n",
      "2       21.01  3.50    Male     No  Sun  Dinner     3\n",
      "3       23.68  3.31    Male     No  Sun  Dinner     2\n",
      "4       24.59  3.61  Female     No  Sun  Dinner     4\n",
      "\n",
      "transformed:\n",
      "   total_bill   tip  sex  smoker  day  time  size\n",
      "0       16.99  1.01    0       0    0     0     2\n",
      "1       10.34  1.66    1       0    0     0     3\n",
      "2       21.01  3.50    1       0    0     0     3\n",
      "3       23.68  3.31    1       0    0     0     2\n",
      "4       24.59  3.61    0       0    0     0     4\n"
     ]
    }
   ],
   "source": [
    "# turn categories into numerical values (encoding)\n",
    "print('original:')\n",
    "print(df.head())\n",
    "print()\n",
    "\n",
    "columns_to_transform = ['sex', 'smoker', 'day', 'time']\n",
    "df_transformed = df.copy()  # we leave the original data untouched\n",
    "for column in columns_to_transform:\n",
    "    labels, unique = pd.factorize(df_transformed[column])\n",
    "    df_transformed[column] = labels\n",
    "    \n",
    "print('transformed:')\n",
    "print(df_transformed.head())"
   ]
  },
  {
   "cell_type": "code",
   "execution_count": 11,
   "metadata": {
    "slideshow": {
     "slide_type": "subslide"
    }
   },
   "outputs": [
    {
     "data": {
      "image/png": "[encoded data removed]",
      "text/plain": [
       "<Figure size 720x720 with 49 Axes>"
      ]
     },
     "metadata": {
      "needs_background": "light"
     },
     "output_type": "display_data"
    }
   ],
   "source": [
    "axs = pd.plotting.scatter_matrix(df_transformed, figsize=(10, 10))"
   ]
  },
  {
   "cell_type": "code",
   "execution_count": 12,
   "metadata": {
    "slideshow": {
     "slide_type": "subslide"
    }
   },
   "outputs": [
    {
     "data": {
      "text/plain": [
       "0      1\n",
       "1      0\n",
       "2      0\n",
       "3      0\n",
       "4      1\n",
       "      ..\n",
       "239    0\n",
       "240    1\n",
       "241    0\n",
       "242    0\n",
       "243    1\n",
       "Name: sex, Length: 244, dtype: int64"
      ]
     },
     "execution_count": 12,
     "metadata": {},
     "output_type": "execute_result"
    }
   ],
   "source": [
    "# you can also replace values if you want to provide a custom mapping\n",
    "# it may be easier to remember the encoding when it is done explicitely like here\n",
    "custom_mapping = {'Male': 0, 'Female': 1}\n",
    "df_transformed['sex'] = df['sex'].replace(custom_mapping)\n",
    "df_transformed['sex']"
   ]
  },
  {
   "cell_type": "markdown",
   "metadata": {
    "slideshow": {
     "slide_type": "subslide"
    }
   },
   "source": [
    "### Using categorical data in a model"
   ]
  },
  {
   "cell_type": "markdown",
   "metadata": {
    "slideshow": {
     "slide_type": "fragment"
    }
   },
   "source": [
    "Q:\n",
    "- Can we directly feed numerical categorical data into a model?"
   ]
  },
  {
   "cell_type": "markdown",
   "metadata": {
    "slideshow": {
     "slide_type": "fragment"
    }
   },
   "source": [
    "A: Depends on the model:\n",
    "\n",
    "- Some models (like tree-based models) support categorical variables out of the box.\n",
    "- Others (like the classical linear model) require variable transformations.\n",
    "\n",
    "See also the [scikit-learn user guide](https://scikit-learn.org/stable/modules/preprocessing.html)."
   ]
  },
  {
   "cell_type": "markdown",
   "metadata": {
    "slideshow": {
     "slide_type": "subslide"
    }
   },
   "source": [
    "Q:\n",
    "- Why/when do we (usually) not pass categorical data directly into e.g. a linear regression model?"
   ]
  },
  {
   "cell_type": "markdown",
   "metadata": {
    "slideshow": {
     "slide_type": "fragment"
    }
   },
   "source": [
    "A:\n",
    "- Encoding and ordering should not matter\n",
    "\n",
    "Idea:\n",
    "- One-hot or dummy encode variables"
   ]
  },
  {
   "cell_type": "markdown",
   "metadata": {
    "slideshow": {
     "slide_type": "subslide"
    }
   },
   "source": [
    "#### Categorical to integer code\n",
    "\n",
    "[`OrdinalEncoder`](https://scikit-learn.org/stable/modules/generated/sklearn.preprocessing.OrdinalEncoder.html#sklearn.preprocessing.OrdinalEncoder) can be used to convert categorical features to integer codes.\n",
    "\n",
    "This is similar to `pd.factorize`.\n",
    "\n",
    "---\n",
    "\n",
    "Group projects: use `pd.factorize` as first preprocessing step."
   ]
  },
  {
   "cell_type": "code",
   "execution_count": 13,
   "metadata": {
    "slideshow": {
     "slide_type": "subslide"
    }
   },
   "outputs": [
    {
     "data": {
      "text/html": [
       "<div>\n",
       "<style scoped>\n",
       "    .dataframe tbody tr th:only-of-type {\n",
       "        vertical-align: middle;\n",
       "    }\n",
       "\n",
       "    .dataframe tbody tr th {\n",
       "        vertical-align: top;\n",
       "    }\n",
       "\n",
       "    .dataframe thead th {\n",
       "        text-align: right;\n",
       "    }\n",
       "</style>\n",
       "<table border=\"1\" class=\"dataframe\">\n",
       "  <thead>\n",
       "    <tr style=\"text-align: right;\">\n",
       "      <th></th>\n",
       "      <th>total_bill</th>\n",
       "      <th>tip</th>\n",
       "      <th>sex</th>\n",
       "      <th>smoker</th>\n",
       "      <th>day</th>\n",
       "      <th>time</th>\n",
       "      <th>size</th>\n",
       "    </tr>\n",
       "  </thead>\n",
       "  <tbody>\n",
       "    <tr>\n",
       "      <td>0</td>\n",
       "      <td>16.99</td>\n",
       "      <td>1.01</td>\n",
       "      <td>Female</td>\n",
       "      <td>No</td>\n",
       "      <td>Sun</td>\n",
       "      <td>Dinner</td>\n",
       "      <td>2</td>\n",
       "    </tr>\n",
       "    <tr>\n",
       "      <td>1</td>\n",
       "      <td>10.34</td>\n",
       "      <td>1.66</td>\n",
       "      <td>Male</td>\n",
       "      <td>No</td>\n",
       "      <td>Sun</td>\n",
       "      <td>Dinner</td>\n",
       "      <td>3</td>\n",
       "    </tr>\n",
       "    <tr>\n",
       "      <td>200</td>\n",
       "      <td>18.71</td>\n",
       "      <td>4.00</td>\n",
       "      <td>Male</td>\n",
       "      <td>Yes</td>\n",
       "      <td>Thur</td>\n",
       "      <td>Lunch</td>\n",
       "      <td>3</td>\n",
       "    </tr>\n",
       "    <tr>\n",
       "      <td>100</td>\n",
       "      <td>11.35</td>\n",
       "      <td>2.50</td>\n",
       "      <td>Female</td>\n",
       "      <td>Yes</td>\n",
       "      <td>Fri</td>\n",
       "      <td>Dinner</td>\n",
       "      <td>2</td>\n",
       "    </tr>\n",
       "    <tr>\n",
       "      <td>240</td>\n",
       "      <td>27.18</td>\n",
       "      <td>2.00</td>\n",
       "      <td>Female</td>\n",
       "      <td>Yes</td>\n",
       "      <td>Sat</td>\n",
       "      <td>Dinner</td>\n",
       "      <td>2</td>\n",
       "    </tr>\n",
       "    <tr>\n",
       "      <td>241</td>\n",
       "      <td>22.67</td>\n",
       "      <td>2.00</td>\n",
       "      <td>Male</td>\n",
       "      <td>Yes</td>\n",
       "      <td>Sat</td>\n",
       "      <td>Dinner</td>\n",
       "      <td>2</td>\n",
       "    </tr>\n",
       "    <tr>\n",
       "      <td>243</td>\n",
       "      <td>18.78</td>\n",
       "      <td>3.00</td>\n",
       "      <td>Female</td>\n",
       "      <td>No</td>\n",
       "      <td>Thur</td>\n",
       "      <td>Dinner</td>\n",
       "      <td>2</td>\n",
       "    </tr>\n",
       "  </tbody>\n",
       "</table>\n",
       "</div>"
      ],
      "text/plain": [
       "     total_bill   tip     sex smoker   day    time  size\n",
       "0         16.99  1.01  Female     No   Sun  Dinner     2\n",
       "1         10.34  1.66    Male     No   Sun  Dinner     3\n",
       "200       18.71  4.00    Male    Yes  Thur   Lunch     3\n",
       "100       11.35  2.50  Female    Yes   Fri  Dinner     2\n",
       "240       27.18  2.00  Female    Yes   Sat  Dinner     2\n",
       "241       22.67  2.00    Male    Yes   Sat  Dinner     2\n",
       "243       18.78  3.00  Female     No  Thur  Dinner     2"
      ]
     },
     "execution_count": 13,
     "metadata": {},
     "output_type": "execute_result"
    }
   ],
   "source": [
    "# choose a more interesting example displaying several categories at once\n",
    "df_example = df.iloc[[0, 1, 200, 100, 240, 241, 243]]\n",
    "df_example"
   ]
  },
  {
   "cell_type": "code",
   "execution_count": 14,
   "metadata": {
    "slideshow": {
     "slide_type": "subslide"
    }
   },
   "outputs": [
    {
     "name": "stdout",
     "output_type": "stream",
     "text": [
      "original:\n",
      "        sex   day\n",
      "0    Female   Sun\n",
      "1      Male   Sun\n",
      "200    Male  Thur\n",
      "100  Female   Fri\n",
      "240  Female   Sat\n",
      "\n",
      "transformed:\n",
      "[[0. 2.]\n",
      " [1. 2.]\n",
      " [1. 3.]\n",
      " [0. 0.]\n",
      " [0. 1.]]\n"
     ]
    }
   ],
   "source": [
    "from sklearn.preprocessing import OrdinalEncoder\n",
    "\n",
    "X = df_example[['sex', 'day']].head()\n",
    "print('original:')\n",
    "print(X)\n",
    "print()\n",
    "encoder = OrdinalEncoder()\n",
    "X_transformed = encoder.fit_transform(X)\n",
    "print('transformed:')\n",
    "print(X_transformed)"
   ]
  },
  {
   "cell_type": "markdown",
   "metadata": {
    "slideshow": {
     "slide_type": "subslide"
    }
   },
   "source": [
    "#### Categorical to one-hot or dummy encoding\n",
    "\n",
    "[`OneHotEncoder`](https://scikit-learn.org/stable/modules/generated/sklearn.preprocessing.OneHotEncoder.html#sklearn.preprocessing.OneHotEncoder) is used to convert categorical features into one-hot or dummy encoded variables.\n",
    "\n",
    "---\n",
    "\n",
    "Group projects: do not forget to one-hot encode variables with more than two categories if your model does not support categorical input"
   ]
  },
  {
   "cell_type": "code",
   "execution_count": 15,
   "metadata": {
    "slideshow": {
     "slide_type": "subslide"
    }
   },
   "outputs": [
    {
     "name": "stdout",
     "output_type": "stream",
     "text": [
      "original:\n",
      "        sex   day\n",
      "0    Female   Sun\n",
      "1      Male   Sun\n",
      "200    Male  Thur\n",
      "100  Female   Fri\n",
      "240  Female   Sat\n",
      "\n",
      "transformed (without dropping first):\n",
      "[[1. 0. 0. 0. 1. 0.]\n",
      " [0. 1. 0. 0. 1. 0.]\n",
      " [0. 1. 0. 0. 0. 1.]\n",
      " [1. 0. 1. 0. 0. 0.]\n",
      " [1. 0. 0. 1. 0. 0.]]\n"
     ]
    }
   ],
   "source": [
    "from sklearn.preprocessing import OneHotEncoder\n",
    "\n",
    "X = df_example[['sex', 'day']].head()\n",
    "print('original:')\n",
    "print(X)\n",
    "print()\n",
    "encoder = OneHotEncoder()\n",
    "X_transformed = encoder.fit_transform(X)\n",
    "print('transformed (without dropping first):')\n",
    "# print(X_transformed)\n",
    "print(X_transformed.toarray())  # observe the co-linearity we created"
   ]
  },
  {
   "cell_type": "code",
   "execution_count": 16,
   "metadata": {
    "slideshow": {
     "slide_type": "subslide"
    }
   },
   "outputs": [
    {
     "name": "stdout",
     "output_type": "stream",
     "text": [
      "transformed:\n",
      "[[0. 0. 1. 0.]\n",
      " [1. 0. 1. 0.]\n",
      " [1. 0. 0. 1.]\n",
      " [0. 0. 0. 0.]\n",
      " [0. 1. 0. 0.]]\n"
     ]
    }
   ],
   "source": [
    "encoder = OneHotEncoder(drop='first')  # to encode each column into (n_categories - 1) columns\n",
    "X_transformed = encoder.fit_transform(X)\n",
    "print('transformed:')\n",
    "# print(X_transformed)\n",
    "print(X_transformed.toarray())"
   ]
  },
  {
   "cell_type": "markdown",
   "metadata": {
    "slideshow": {
     "slide_type": "subslide"
    }
   },
   "source": [
    "#### Preprocessing in a pipeline\n",
    "\n",
    "[`ColumnTransformer`](https://scikit-learn.org/stable/modules/generated/sklearn.compose.ColumnTransformer.html#sklearn.compose.ColumnTransformer) is used to apply several (different) transformations to a DataFrame at once.\n",
    "\n",
    "---\n",
    "\n",
    "Group projects: if necessary, create a pipeline to simplify matters"
   ]
  },
  {
   "cell_type": "code",
   "execution_count": 17,
   "metadata": {
    "slideshow": {
     "slide_type": "subslide"
    }
   },
   "outputs": [
    {
     "name": "stdout",
     "output_type": "stream",
     "text": [
      "original:\n",
      "        sex   day  total_bill\n",
      "0    Female   Sun       16.99\n",
      "1      Male   Sun       10.34\n",
      "2      Male   Sun       21.01\n",
      "3      Male   Sun       23.68\n",
      "4    Female   Sun       24.59\n",
      "..      ...   ...         ...\n",
      "239    Male   Sat       29.03\n",
      "240  Female   Sat       27.18\n",
      "241    Male   Sat       22.67\n",
      "242    Male   Sat       17.82\n",
      "243  Female  Thur       18.78\n",
      "\n",
      "[244 rows x 3 columns]\n",
      "\n",
      "transformed:\n",
      "[[ 0.    0.    1.    0.   16.99]\n",
      " [ 1.    0.    1.    0.   10.34]\n",
      " [ 1.    0.    1.    0.   21.01]\n",
      " ...\n",
      " [ 1.    1.    0.    0.   22.67]\n",
      " [ 1.    1.    0.    0.   17.82]\n",
      " [ 0.    0.    0.    1.   18.78]]\n"
     ]
    }
   ],
   "source": [
    "from sklearn.compose import ColumnTransformer\n",
    "\n",
    "ct = ColumnTransformer(\n",
    "    [\n",
    "        ('encoder', OneHotEncoder(drop='first'), ['sex', 'day']), \n",
    "        # we could add an additional transformer here as well, e.g. to\n",
    "        # perform feature scaling\n",
    "    ], \n",
    "    remainder='passthrough',  # to not drop but pass through variables \n",
    "                              # that are not transformed\n",
    ")\n",
    "\n",
    "X = df[['sex', 'day', 'total_bill']]\n",
    "print('original:')\n",
    "print(X)\n",
    "print()\n",
    "ct.fit(X)  # we can call fit and transform independently\n",
    "X_transformed = ct.transform(X)\n",
    "print('transformed:')\n",
    "print(X_transformed)"
   ]
  },
  {
   "cell_type": "code",
   "execution_count": 18,
   "metadata": {
    "slideshow": {
     "slide_type": "subslide"
    }
   },
   "outputs": [
    {
     "data": {
      "text/plain": [
       "0.4590402587468897"
      ]
     },
     "execution_count": 18,
     "metadata": {},
     "output_type": "execute_result"
    }
   ],
   "source": [
    "# example of how to use ColumnTransformer in a pipeline\n",
    "from sklearn.linear_model import LinearRegression\n",
    "from sklearn.pipeline import Pipeline \n",
    "\n",
    "X = df[['sex', 'day', 'total_bill']]\n",
    "y = df['tip']\n",
    "\n",
    "regressor = LinearRegression()\n",
    "\n",
    "model = Pipeline(\n",
    "    [\n",
    "        ('preprocessor', ct), \n",
    "        ('regressor', regressor)\n",
    "    ]\n",
    ")\n",
    "\n",
    "model.fit(X, y)\n",
    "model.score(X, y)"
   ]
  },
  {
   "cell_type": "markdown",
   "metadata": {
    "slideshow": {
     "slide_type": "subslide"
    }
   },
   "source": [
    "## Multiclass Classification\n",
    "\n",
    "Multiclass: more than 2 response classes\n",
    "\n",
    "Q:\n",
    "- Which models support multiclass classification?\n",
    "\n",
    "A:\n",
    "- Some models natively support multiclass classification (e.g. tree-based methods).\n",
    "- Models can be combined in a *one vs. all* fashion to produce a multiclass classifier.\n"
   ]
  },
  {
   "cell_type": "markdown",
   "metadata": {
    "slideshow": {
     "slide_type": "slide"
    }
   },
   "source": [
    "# Supplements"
   ]
  },
  {
   "cell_type": "markdown",
   "metadata": {
    "slideshow": {
     "slide_type": "subslide"
    }
   },
   "source": [
    "## Ensemble Methods\n",
    "\n",
    "> Combine multiple models to obtain better predictive performance.\n",
    "\n",
    "Requirements:\n",
    "- Different models\n",
    "- Aggregation of results\n",
    "\n",
    "---\n",
    "\n",
    "*In practical applications (with a focus on predictive performance) ensemble methods are widely used.*"
   ]
  },
  {
   "cell_type": "markdown",
   "metadata": {
    "slideshow": {
     "slide_type": "subslide"
    }
   },
   "source": [
    "Two approaches:\n",
    "- Averaging: build several independent models\n",
    "- Boosting: build models sequentially"
   ]
  },
  {
   "cell_type": "markdown",
   "metadata": {
    "slideshow": {
     "slide_type": "fragment"
    }
   },
   "source": [
    "Comments:\n",
    "- [Scikit-learn provides models for both](https://scikit-learn.org/stable/modules/ensemble.html#ensemble)\n",
    "- [RandomForests](https://scikit-learn.org/stable/modules/generated/sklearn.ensemble.RandomForestClassifier.html#sklearn.ensemble.RandomForestClassifier) are a classical example (reduce variance by aggregating many models)\n",
    "- Ensemble methods may scale to very large data sets"
   ]
  },
  {
   "cell_type": "markdown",
   "metadata": {
    "slideshow": {
     "slide_type": "subslide"
    }
   },
   "source": [
    "## Bias Variance Trade-Off\n",
    "\n",
    "> Trade-off between prediction accuracy and model interpretability\n",
    "\n",
    "\n",
    "<a href=\"http://faculty.marshall.usc.edu/gareth-james/ISL/\">\n",
    "<img src=\"../images/isl/isl_2.7_bias_variance_trade_off.png\" alt=\"Bias Variance Trade-Off\" width=\"80%\">\n",
    "</a>\n",
    "\n",
    "---\n",
    "\n",
    "*In general, you cannot have both. Depends on use case what is more important to you.*"
   ]
  },
  {
   "cell_type": "markdown",
   "metadata": {
    "slideshow": {
     "slide_type": "slide"
    }
   },
   "source": [
    "## Variable Importance"
   ]
  },
  {
   "cell_type": "markdown",
   "metadata": {
    "slideshow": {
     "slide_type": "fragment"
    }
   },
   "source": [
    "Q:\n",
    "- Which variable importance measures do you know already?"
   ]
  },
  {
   "cell_type": "markdown",
   "metadata": {
    "slideshow": {
     "slide_type": "fragment"
    }
   },
   "source": [
    "A:\n",
    "- Coefficients in linear regression if variable have same scale\n",
    "- RandomForest feature importance"
   ]
  },
  {
   "cell_type": "markdown",
   "metadata": {
    "slideshow": {
     "slide_type": "subslide"
    }
   },
   "source": [
    "### Permutation Importance\n",
    "\n",
    "Idea:\n",
    "- The output of a model depends on different variables\n",
    "- We *destroy* the information in one variable\n",
    "- We observe how model performance then deteriorates\n",
    "- The larger the effect, the more important the variable must be\n",
    "\n",
    "Notes:\n",
    "- This is independent of the model used\n",
    "- *destroy information* e.g. through permuting values\n",
    "\n",
    "See also:\n",
    "- [Interpretable ML](https://christophm.github.io/interpretable-ml-book/)\n",
    "- [ELI5](https://eli5.readthedocs.io/en/latest/overview.html)\n",
    "- Example in \"california housing\" exercise"
   ]
  },
  {
   "cell_type": "markdown",
   "metadata": {
    "slideshow": {
     "slide_type": "subslide"
    }
   },
   "source": [
    "### Further Reading\n",
    "\n",
    "Scikit-learn user guide:\n",
    "- [Model selection and evaluation](https://scikit-learn.org/stable/model_selection.html)\n",
    "- [Dataset transformations](https://scikit-learn.org/stable/data_transforms.html)\n",
    "\n",
    "The [tutorial](https://scikit-learn.org/stable/tutorial/index.html) also lists a lot of\n",
    "helpful examples.\n",
    "\n",
    "---\n",
    "\n",
    "[10 minutes to pandas](https://pandas.pydata.org/pandas-docs/stable/getting_started/10min.html) is a good wrap up of how some common operations are carried out in pandas.\n",
    "\n",
    "---\n",
    "\n",
    "[matplotlib](https://matplotlib.org/index.html) comes with a large gallery of example plots in case you need something we have not yet covered.\n",
    "\n",
    "---\n",
    "\n",
    "For easy-to-create statistical data visualizations, take a look at [seaborn](https://seaborn.pydata.org/)."
   ]
  },
  {
   "cell_type": "markdown",
   "metadata": {
    "slideshow": {
     "slide_type": "slide"
    }
   },
   "source": [
    "# Projects\n",
    "\n",
    "See [here](https://github.com/caichinger/MLMNC2020/projects)."
   ]
  },
  {
   "cell_type": "markdown",
   "metadata": {
    "slideshow": {
     "slide_type": "slide"
    }
   },
   "source": [
    "# Exercises"
   ]
  },
  {
   "cell_type": "markdown",
   "metadata": {
    "slideshow": {
     "slide_type": "subslide"
    }
   },
   "source": [
    "## Let's review a few submissions together!"
   ]
  },
  {
   "cell_type": "markdown",
   "metadata": {
    "slideshow": {
     "slide_type": "subslide"
    }
   },
   "source": [
    "## Before we start:\n",
    "\n",
    "> We have received some very nice solutions! Congratulations on the progress you have made already! \\o/\n",
    "\n",
    "\n",
    "Over all exercises and students:\n",
    "\n",
    "|       |   total_score |\n",
    "|:------|--------------:|\n",
    "| count |     90        |\n",
    "| mean  |      0.860766 |\n",
    "| std   |      0.159342 |\n",
    "| min   |      0.138889 |\n",
    "| 25%   |      0.808333 |\n",
    "| 50%   |      0.883333 |\n",
    "| 75%   |      0.9825   |\n",
    "| max   |      1        |"
   ]
  },
  {
   "cell_type": "markdown",
   "metadata": {
    "slideshow": {
     "slide_type": "subslide"
    }
   },
   "source": [
    "### Examples\n",
    "\n",
    "*What do you like? What can be improved?*"
   ]
  },
  {
   "cell_type": "markdown",
   "metadata": {
    "slideshow": {
     "slide_type": "subslide"
    }
   },
   "source": [
    "Q:\n",
    "\n",
    "2. Compare the decision boundaries between the `RandomForestClassifier` and the `KNeighborsClassifier`. How do they differ?\n",
    "\n",
    "A:\n",
    "\n",
    "The RandomForestClassifier exhibits linear and horizontal decision boundaries whereas the KNeighborsClassifier does not assume any specific form (apart from forming neighborhoods).\tthe kneighborsclassifier ignores outliers, thus the line is much smoother when and  thus it is easier to interpret  however, the random forest classifier is more accurate because it includes the outliers but it makes it harder to interpret\n"
   ]
  },
  {
   "cell_type": "markdown",
   "metadata": {
    "slideshow": {
     "slide_type": "subslide"
    }
   },
   "source": [
    "Q:\n",
    "\n",
    "1/b) Setting a lower but fixed value for `noise` and varying `n_neighbors`.\n",
    "\n",
    "A:\n",
    "\n",
    "If we choose n_neighbors too small (=1) the boundary becomes too flaky; the model is too flexible. There seems to be a good choice that roughly captures the shape of the expected boundary. If we choose n_neighbors too large (=50) we loose details; the model is no longer flexible enough.\n"
   ]
  },
  {
   "cell_type": "markdown",
   "metadata": {
    "slideshow": {
     "slide_type": "subslide"
    }
   },
   "source": [
    "Q:\n",
    "\n",
    "2. What does `pd.plotting.scatter_matrix()` tell us about the data?\n",
    "\n",
    "A:\n",
    "\n",
    "It creates creates nxn plots where      off the diagonal: scatter plots are used to visualize correlation between variables     on the diagonal: the distribution of a variable is visualized \tThis command shows a great overview of the correlation between the given input (TV, Radio, Newspaper) variable and the output (Sales) variable. The computed matrix of scatter plots visualizes the relationship between the variables and thereby complements df.corr() smoothly. Again, the abovementioned relationships/correlations between the variables can be observed. E.g., TV ads have the strongest linear and positive influence on sales, as can be seen in the upper-right corner matrix.\n"
   ]
  },
  {
   "cell_type": "markdown",
   "metadata": {
    "slideshow": {
     "slide_type": "subslide"
    }
   },
   "source": [
    "Q:\n",
    "\n",
    "1. Why did we decide to scale the inputs?\n",
    "\n",
    "A:\n",
    "\n",
    "We wanted to infer variable importance by comparing the coefficients. Therefore, the variables need to share the same scale.\tWe decided to scale the inputs to be able to accurately compare the correlation coefficients of TV, radio and newspaper advertising spending and sales in the model. Beforehand, the correlation coefficients were not comparable between the three advertising variables, as they depend on the respective scales.\n"
   ]
  },
  {
   "cell_type": "markdown",
   "metadata": {
    "slideshow": {
     "slide_type": "subslide"
    }
   },
   "source": [
    "Q:\n",
    "\n",
    "1. Why did we decide to scale the inputs?\n",
    "\n",
    "A:\n",
    "\n",
    "We wanted to infer variable importance by comparing the coefficients. Therefore, the variables need to share the same scale.\tWe decided to scale the input variables to account for their different ranges and hence the effect on the coefficients. As a result, we achieve a higher comparability of the coefficients due to scaling and the model performs better.\n"
   ]
  },
  {
   "cell_type": "markdown",
   "metadata": {
    "slideshow": {
     "slide_type": "subslide"
    }
   },
   "source": [
    "Q:\n",
    "\n",
    "3/b) Using one of the models, describe and interpret the effect on sales when spending  \"an ever increasing amount on advertising\". Is this behaviour reasonable?\n",
    "\n",
    "A:\n",
    "\n",
    "This behavior is not reasonable, cf. concept of diminishing returns.\tUsing the original model, an ever increasing amount of ad spending also leads to ever rising sales - the effect is especially strong for TV and radio. It can be assumed that this does not reflect reality, as the law of diminishing returns would imply that there is a point where sales would virtually remain the same, even if ad spendings are further increased. Therefore, the second model was created to account for these dynamics.\n"
   ]
  },
  {
   "cell_type": "markdown",
   "metadata": {
    "slideshow": {
     "slide_type": "subslide"
    }
   },
   "source": [
    "Q:\n",
    "\n",
    "3. How do the decision regions differ between the default and the cross-validated model?\n",
    "\n",
    "A:\n",
    "\n",
    "Less fragmented, fewer details, coarser boundary. Maybe too coarse.\tafter cross validating, the decision regions become clearer and the model fit is better. Therefore we should cross validate the data first. \n"
   ]
  },
  {
   "cell_type": "markdown",
   "metadata": {
    "slideshow": {
     "slide_type": "subslide"
    }
   },
   "source": [
    "Q:\n",
    "\n",
    "3/b) Using one of the models, describe and interpret the effect on sales when spending  \"an ever increasing amount on advertising\". Is this behaviour reasonable?\n",
    "\n",
    "A:\n",
    "\n",
    "This behavior is not reasonable, cf. concept of diminishing returns.\tmuch_ads = [[100000, 100000, 100000]] much_ads_sales = model.predict(much_ads) print(much_ads_sales) [-5.18937105e+09] This behaviour is not reasonable as sales cannot turn negative.  In \"simple\" linear model (without scaled inputs) sales would be predicted to become eternally high, which is also not reasonable.\n",
    " "
   ]
  },
  {
   "cell_type": "markdown",
   "metadata": {
    "slideshow": {
     "slide_type": "subslide"
    }
   },
   "source": [
    "Q:\n",
    "\n",
    "3/b) Using one of the models, describe and interpret the effect on sales when spending  \"an ever increasing amount on advertising\". Is this behaviour reasonable?\t \n",
    "\n",
    "A:\n",
    "\n",
    "\n",
    "This behavior is not reasonable, cf. concept of diminishing returns.\t2) An ever increasing amount of money: Code: from sklearn.linear_model import LinearRegression regressor = LinearRegression() regressor.fit(X_train, y_train) print(regressor.coef_) --- [0.04405928 0.1992875  0.00688245] The coefficients show that when we \n",
    "\n",
    "* increase TV spending by 1, then sales increase by 0.0441 \n",
    "* increase radio spending by 1, then sales increase by 0.1993 \n",
    "* increase newspaper spending by 1, then sales increase by 0.0069. I believe that this behavior is not reasonable as this means that we can increase spending forever and sales will always grow by these.\n",
    "\n",
    "In practice, this is not true because we will reach a point where additional spending will not (or only slightly) increase sales. Hence, we can conclude that the model only performs well with realistic advertising spending (should be within the span of our test data set).\n"
   ]
  },
  {
   "cell_type": "markdown",
   "metadata": {
    "slideshow": {
     "slide_type": "subslide"
    }
   },
   "source": [
    "Q:\n",
    "\n",
    "3. Based on your assessment, do you recommend to use the ML system or not? Provide an explanation.\n",
    "\n",
    "A:\n",
    "\n",
    "Based on this assessment, I do not recommend the ML system, because the probability of the model falsely predicting a positive outcome is quite high (0.29). Moreover, the loss for this case is -2000, which is rather high as well.\n"
   ]
  },
  {
   "cell_type": "markdown",
   "metadata": {
    "slideshow": {
     "slide_type": "subslide"
    }
   },
   "source": [
    "Q:\n",
    "\n",
    "3. Based on your assessment, do you recommend to use the ML system or not? Provide an explanation.\n",
    "\n",
    "A:\n",
    "\n",
    "Yes, using the ML system is this case appears fairly accurate. The expected value is positive; that is, above zero. (This exercise was tricky due to axis labeling questions: changes on both axis from 0->1 (negative/positive) or vice versa had profound effect on result).   If my calculations are done right, the expected value of 84 means the predicted values of true positives (TP) and true negatives (TN), 300 and 100 respectively, are correctly represented by the EV of 84. The ML system therefore works, and can be used.\n"
   ]
  },
  {
   "cell_type": "markdown",
   "metadata": {
    "slideshow": {
     "slide_type": "subslide"
    }
   },
   "source": [
    "Q:\n",
    "\n",
    "3. Based on your assessment, do you recommend to use the ML system or not? Provide an explanation.\t\n",
    "\n",
    "A:\n",
    "\n",
    "In this case, I would not recommend to use this ML system for evaluation because, according to the confusion matrix, the model has only a 84% accuracy rate [(True Postive+True Negative)/Total], which should be improved to improve the confidence of the model. We have a 14% chance of getting a false positive (type 1 error). When we also take a look at the system's ability to detect events in the positive class, which is the sensitivity, we get a 71% rate (True positve + False Positive)/ Total Positives. Having these metrics, I assert that the performance of the system is insufficient to have a reliable prediction. Still, we have to check the context of our problem to understand the significance of having those test errors. When we take the current corona crisis as an example, a false negative would be detrimental as someone who is infected would not be put in quarantine, leading to further infections. If we take false positives as an example, it is problematic when someone is diagnosed with cancer and receives a treatment even though the person is healthy. \n",
    "\n"
   ]
  },
  {
   "cell_type": "markdown",
   "metadata": {
    "slideshow": {
     "slide_type": "subslide"
    }
   },
   "source": [
    "Q:\n",
    "\n",
    "3. Based on your assessment, do you recommend to use the ML system or not? Provide an explanation.\t\n",
    "\n",
    "\n",
    "A:\n",
    "\n",
    "I would argue that the model does not perform well, as the expected value of an enitrely accurate model would be 228. Therefore, the current model's classification deviates by 50% from the correct classification of the underlying data. This also becomes apparent when plotting the decision boundaries of the model, where it seems that the data is overfitted.\n"
   ]
  },
  {
   "cell_type": "markdown",
   "metadata": {
    "slideshow": {
     "slide_type": "subslide"
    }
   },
   "source": [
    "Q:\n",
    "\n",
    "4. List three specific tasks you consider important in tackling this problem.\n",
    "\n",
    "A:\n",
    "\n",
    "*\tFeature Scaling, Data exploration, Choosing model variables"
   ]
  },
  {
   "cell_type": "markdown",
   "metadata": {
    "slideshow": {
     "slide_type": "subslide"
    }
   },
   "source": [
    "Q:\n",
    "\n",
    "5. Perform three specific tasks (not necessarily the same) to approach a solution and describe your findings.\t\n",
    "\n",
    "A:\n",
    "\n",
    "1. Latitude and longitude variables logically don't make any sense to put in a correlation unless they are converted into some other datapoints that tell us more about the region the unit is in. Besides, a quick correlation analysis shows that the house age also barely correlates with housing prices (unless they are really really old). All three variables can therefore be omitted from our model. \n",
    "2. For correlation analysis, I decided to try both LinearRegression() as well as GridSearchCV(). \n",
    "3. Both models were measured using mean_squared_error. Using the test_dataset (20% of the whole dataset), GridSearchCV seems to perform better than LinearRegression.\n"
   ]
  },
  {
   "cell_type": "markdown",
   "metadata": {},
   "source": [
    "Q:\n",
    "\n",
    "5. Perform three specific tasks (not necessarily the same) to approach a solution and describe your findings.\n",
    "\n",
    "A:\n",
    "\n",
    "* From the descriptive statistics table I got to know the minimum/maximum value, mean, etc. of each feature.\n",
    "* From the histogram, I discovered that the attributes have different scales and this will probably have to be fixed.\n",
    "* Median income, average number of rooms and house age had the biggest three coefficient with price. Therefore, these three has the largest correlation with the value of house.\n",
    "* I created a scatter plot with geographical information(longitude, latitude) and this provided me an overall picture of high-density areas, i.e. Bay area, LA, etc. And i also created a color map that helped me see that the prices are higher in locations closer to ocean.\n",
    "* Finding these patterns or information can be used to create more relevant features like 'ocean proximity' to better predict the price. As the next step, I will select the most appropriate model to predict the house value and then split the data into test and train set.\n"
   ]
  },
  {
   "cell_type": "markdown",
   "metadata": {
    "slideshow": {
     "slide_type": "subslide"
    }
   },
   "source": [
    "Q:\n",
    "\n",
    "5. Perform three specific tasks (not necessarily the same) to approach a solution and describe your findings.\n",
    "\n",
    "A:\n",
    "\n",
    "* First, I tried linear regression and got poor r2 score of 0.595770232606166,\n",
    "* I then tried to optimize the model by adding polynomial features, but cross-validation showed that \"1\" is the best feature, so it turned me back to the simple linear model that I already analyzed, \n",
    "* I then chose RandomForestClassifier model and applied cross-validation (grid search cv), which gave me r2 score of 0.8072513477374939. \n"
   ]
  },
  {
   "cell_type": "markdown",
   "metadata": {
    "slideshow": {
     "slide_type": "subslide"
    }
   },
   "source": [
    "Q:\n",
    "\n",
    "5. Perform three specific tasks (not necessarily the same) to approach a solution and describe your findings.\n",
    "\n",
    "A:\n",
    "\n",
    "* By exploring correlations between the various attributes and the median house value, I found the strongest correlations with median income, total rooms and median age. It is difficult to eliminate overfitting of the data. Linear regression is not the best choice for predicting the median house value.\n"
   ]
  },
  {
   "cell_type": "markdown",
   "metadata": {
    "slideshow": {
     "slide_type": "subslide"
    }
   },
   "source": [
    "Q: \n",
    "\n",
    "5. Perform three specific tasks (not necessarily the same) to approach a solution and describe your findings.\n",
    "\n",
    "\n",
    "A: \n",
    "\n",
    "* It is a supervised learning task and a multiple regression problem, but more specifically a univariate regression problem because the goal is to use multiple features to make one prediction for each district.\n",
    "\n",
    "* When I plotted the Price data using sns.distplot and noticed that the frequency for houses over 500000 is very high, so my assumption is that these are either outliers or the data is wrong. Because of this, I attempted to remove the outliers, but it didn’t work. Something in my code is wrong, but I believe that removing the outliers would make the model more accurate when testing the model with test data.\n",
    "\n",
    "* In order to see if some variables had significant correlations, I created a heat map correlation matrix. From this matrix I can see that the top 2 positive correlations are average bedrooms – average rooms (85% correlation) and price – media income (69%). However, both of these correlations were to be expected, so it is not helpful in the analysis. Although, there was a strong negative correlation between block population and median house age in block. This leads me to wonder whether the population on the block decreases as the median age of the houses in a block increases, which could lead to the area being less desirable hence have a lower median house price, but an analysis on causation would need to be done to determine this.\n"
   ]
  },
  {
   "cell_type": "markdown",
   "metadata": {
    "slideshow": {
     "slide_type": "slide"
    }
   },
   "source": [
    "## Takeaway Messages and Remarks"
   ]
  },
  {
   "cell_type": "markdown",
   "metadata": {
    "slideshow": {
     "slide_type": "subslide"
    }
   },
   "source": [
    "### Approaching and Discussing a Problem\n",
    "1. Expectation: What do you expect based on your current knowledge? Write this down before you work on a problem.\n",
    "1. Observation: What do you see? Describe your findings.\n",
    "1. Interpretation: What does it mean and why does it matter? Explain cause and effect of your findings.\n",
    "\n",
    "---\n",
    "\n",
    "- Without clearly defined expectations, it is all too easy to fool yourself.\n",
    "- Separating observation and interpretation facilitates the discussion. It makes it easier to review und improve.   Your observations could be correct even if your interpretations are not."
   ]
  },
  {
   "cell_type": "markdown",
   "metadata": {
    "slideshow": {
     "slide_type": "subslide"
    }
   },
   "source": [
    "### Making Assertions\n",
    "\n",
    "When you make an assertion, check it's plausibility if you have not done so already.\n",
    "\n",
    "*Code allows you to play around and try things out - do that.*"
   ]
  },
  {
   "cell_type": "markdown",
   "metadata": {
    "slideshow": {
     "slide_type": "subslide"
    }
   },
   "source": [
    "### Wording / Concepts"
   ]
  },
  {
   "cell_type": "markdown",
   "metadata": {
    "slideshow": {
     "slide_type": "subslide"
    }
   },
   "source": [
    "Q:\n",
    "\n",
    "- What does linear mean?"
   ]
  },
  {
   "cell_type": "markdown",
   "metadata": {
    "slideshow": {
     "slide_type": "fragment"
    }
   },
   "source": [
    "A: \n",
    "\n",
    "- Linear function in one variable $f(x) = ax + b$\n",
    "- Linear relationship between $x$ and $y$ if it can be expressed as $y = f(x) = ax + b$\n",
    "- Similarily in more dimension\n",
    "- Graphically: A straight line (or a (hyper)plane)\n",
    "\n",
    "---\n",
    "\n",
    "*If something looks like a curve, it is not a linear relationship.*"
   ]
  },
  {
   "cell_type": "markdown",
   "metadata": {
    "slideshow": {
     "slide_type": "subslide"
    }
   },
   "source": [
    "Q:\n",
    "- What is an outlier?"
   ]
  },
  {
   "cell_type": "markdown",
   "metadata": {
    "slideshow": {
     "slide_type": "fragment"
    }
   },
   "source": [
    "A:\n",
    "\n",
    "- Outlier refers to a data point/record that differs significantly from other observations.\n",
    "\n",
    "---\n",
    "\n",
    "- By definition, an outlier is a rare event.\n",
    "- If you are not explicitely interested in rare events, you do not want these events to \n",
    "  influence your model.\n",
    "- Outliers may cause problems.\n",
    "- Different ranges do not per se constitute outliers.\n",
    "- Sometimes one is explicitely interested in outliers (outlier detection).\n",
    "\n",
    "---\n",
    "\n",
    "*The \"california housing\" data set contains a few outliers.*"
   ]
  },
  {
   "cell_type": "markdown",
   "metadata": {
    "slideshow": {
     "slide_type": "subslide"
    }
   },
   "source": [
    "Q:\n",
    "- Model parameter vs. hyperparameter?"
   ]
  },
  {
   "cell_type": "markdown",
   "metadata": {
    "slideshow": {
     "slide_type": "fragment"
    }
   },
   "source": [
    "A:\n",
    "- Hyperparameter is part of the model specification, defines family of possible models\n",
    "- Model parameters are learned from the data (using `fit`)\n",
    "- Hyperparameters are estimated using `GridSearch`*\n",
    "\n",
    "---\n",
    "\n",
    "*Additional hyperparameter search methods exist (random, model based, ...)."
   ]
  },
  {
   "cell_type": "markdown",
   "metadata": {
    "slideshow": {
     "slide_type": "subslide"
    }
   },
   "source": [
    "Examples:\n",
    "- Coefficients in linear regression: model parameter\n",
    "- Number of degrees in polynomial features fed into linear regression: hyperparameter\n",
    "- Split-rules in decision tree: model parameter\n",
    "- Max depth of tree: hyperparameter\n",
    "- Number of estimators in random forest: hyperparameter"
   ]
  },
  {
   "cell_type": "markdown",
   "metadata": {
    "slideshow": {
     "slide_type": "subslide"
    }
   },
   "source": [
    "Q:\n",
    "- What is (statistical) bias?\n",
    "- Is bias a problem?"
   ]
  },
  {
   "cell_type": "markdown",
   "metadata": {
    "slideshow": {
     "slide_type": "fragment"
    }
   },
   "source": [
    "A:\n",
    "- In general: consistent/structural deviation of result caused by systematic error in procedure\n",
    "- In linear regression: intercept term (constant) is called bias\n",
    "- Bias is considered problematic (often not known/considered)\n",
    "\n",
    "---\n",
    "\n",
    "- ML system may introduce or learn basis from data\n",
    "- ML systems are not per se unbiased\n",
    "\n",
    "---\n",
    "\n",
    "**https://catalogofbias.org/**"
   ]
  },
  {
   "cell_type": "markdown",
   "metadata": {
    "slideshow": {
     "slide_type": "subslide"
    }
   },
   "source": [
    "[FAO](http://fao.org)'s basic statistical tools I\n",
    "\n",
    "<img src=\"http://www.fao.org/3/w7295e2m.gif\" alt=\"Accuracy\" width=\"600\">"
   ]
  },
  {
   "cell_type": "markdown",
   "metadata": {
    "slideshow": {
     "slide_type": "subslide"
    }
   },
   "source": [
    "[FAO](http://fao.org)'s basic statistical tools II\n",
    "\n",
    "<img src=\"http://www.fao.org/3/w7295e2n.gif\" alt=\"Accuracy, precision and bias\" width=\"400\">"
   ]
  },
  {
   "cell_type": "markdown",
   "metadata": {
    "slideshow": {
     "slide_type": "subslide"
    }
   },
   "source": [
    "Q:\n",
    "- Train-test-split vs. cross validation (CV) vs. grid search vs. CV grid search?"
   ]
  },
  {
   "cell_type": "markdown",
   "metadata": {
    "slideshow": {
     "slide_type": "fragment"
    }
   },
   "source": [
    "A:\n",
    "- Train-test-split:\n",
    "  - split data into train and test set\n",
    "  - different strategies: random subset, stratified split, ...\n",
    "- CV:\n",
    "  - perform train-test-split several times\n",
    "  - different strategies: random, n-folds, ...\n",
    "- Grid search:\n",
    "  - Define parameter grid\n",
    "  - For every parameter combination:\n",
    "    1. Fit model on train\n",
    "    2. Compute score on test\n",
    "  - Choose best parameter combination\n",
    "- CV grid search: combine both grid search and CV into one procedure\n"
   ]
  }
 ],
 "metadata": {
  "celltoolbar": "Slideshow",
  "kernelspec": {
   "display_name": "Python 3",
   "language": "python",
   "name": "python3"
  },
  "language_info": {
   "codemirror_mode": {
    "name": "ipython",
    "version": 3
   },
   "file_extension": ".py",
   "mimetype": "text/x-python",
   "name": "python",
   "nbconvert_exporter": "python",
   "pygments_lexer": "ipython3",
   "version": "3.8.5"
  }
 },
 "nbformat": 4,
 "nbformat_minor": 2
}
