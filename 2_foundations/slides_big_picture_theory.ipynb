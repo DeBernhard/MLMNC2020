{
 "cells": [
  {
   "cell_type": "markdown",
   "metadata": {
    "slideshow": {
     "slide_type": "slide"
    }
   },
   "source": [
    "# Conceptual Foundations of Statistical Learning\n",
    "\n",
    "*Based on ISL*"
   ]
  },
  {
   "cell_type": "markdown",
   "metadata": {
    "slideshow": {
     "slide_type": "slide"
    }
   },
   "source": [
    "## What Is Statistical Learning?\n",
    "\n",
    "Broadly speaking...\n",
    "\n",
    "> **Supervised** statistical learning: build a statistical model to predict/estimate, an *output* based on one ore more *inputs*\n",
    "\n",
    "> **Unsupervised** statistical learning: there are inputs but no supervised output; nevertheless we can learn relationships and structure from such data"
   ]
  },
  {
   "cell_type": "markdown",
   "metadata": {
    "slideshow": {
     "slide_type": "subslide"
    }
   },
   "source": [
    "Suppose input $X$ and output $Y$ relationship can we written as\n",
    "\n",
    "$$Y = f(X) + \\epsilon.$$\n",
    "\n",
    "Where\n",
    "\n",
    "- $X$... input, predictor, feature, independent variable\n",
    "- $Y$... output, response, dependent variable\n",
    "- $f$... systematic information that X provides about Y (fixed but unknown)\n",
    "- $\\epsilon$... random error term with mean zero\n",
    "\n",
    "---\n",
    "\n",
    "> Statistical learning refers to a set of approaches for estimating $f$."
   ]
  },
  {
   "cell_type": "markdown",
   "metadata": {
    "slideshow": {
     "slide_type": "slide"
    }
   },
   "source": [
    "## Why Estimate $f$?"
   ]
  },
  {
   "cell_type": "markdown",
   "metadata": {
    "slideshow": {
     "slide_type": "slide"
    }
   },
   "source": [
    "### Prediction\n",
    "\n",
    "We have input $X$ and wish to *predict* output $Y$."
   ]
  },
  {
   "cell_type": "markdown",
   "metadata": {
    "slideshow": {
     "slide_type": "fragment"
    }
   },
   "source": [
    "Assuming we can approximate $f$ through some $\\hat{f}$ then"
   ]
  },
  {
   "cell_type": "markdown",
   "metadata": {
    "slideshow": {
     "slide_type": "fragment"
    }
   },
   "source": [
    "We obtain a prediction $\\hat{Y}$ of $Y$ using"
   ]
  },
  {
   "cell_type": "markdown",
   "metadata": {
    "slideshow": {
     "slide_type": "fragment"
    }
   },
   "source": [
    "$$\\hat{Y} = \\hat{f}(X).$$"
   ]
  },
  {
   "cell_type": "markdown",
   "metadata": {
    "slideshow": {
     "slide_type": "subslide"
    }
   },
   "source": [
    "We can treat $\\hat{f}$ as *black box* provided that it yields sufficiently accurate predictions for $Y$."
   ]
  },
  {
   "cell_type": "markdown",
   "metadata": {
    "slideshow": {
     "slide_type": "subslide"
    }
   },
   "source": [
    "Accuracy of prediction $\\hat{Y}$ depends on:\n",
    "\n",
    "#### Reducible error\n",
    "How well $\\hat{f}$ approximates $f$?\n",
    "\n",
    "Can be decreased by improving model.\n",
    "\n",
    "#### Irreducible error\n",
    "How large is the error term $\\epsilon$?\n",
    "\n",
    "Represents fluctuations we cannot capture."
   ]
  },
  {
   "cell_type": "markdown",
   "metadata": {
    "slideshow": {
     "slide_type": "slide"
    }
   },
   "source": [
    "### Inference\n",
    "\n",
    "*Understand* how $Y$ is affected as $X$ changes."
   ]
  },
  {
   "cell_type": "markdown",
   "metadata": {
    "slideshow": {
     "slide_type": "fragment"
    }
   },
   "source": [
    "We need to $f$ but we do not necessarily make predictions.\n",
    "\n",
    "We analyze properties of $\\hat{f}$ itself to improve our understanding."
   ]
  },
  {
   "cell_type": "markdown",
   "metadata": {
    "slideshow": {
     "slide_type": "slide"
    }
   },
   "source": [
    "Typical questions:\n",
    "- Which predictors are associated with the response?\n",
    "- What is the relationship between the response and each predictor?\n",
    "- Can the relationship between $Y$ and each predictor be described using a simple, interpretable model?"
   ]
  },
  {
   "cell_type": "markdown",
   "metadata": {
    "slideshow": {
     "slide_type": "fragment"
    }
   },
   "source": [
    "In some fields of applications interpretable/transparent *white box* model are preferred."
   ]
  },
  {
   "cell_type": "markdown",
   "metadata": {
    "slideshow": {
     "slide_type": "slide"
    }
   },
   "source": [
    "## How do we Estimate $f$?\n",
    "\n",
    "*Very interesting but out of scope.*"
   ]
  },
  {
   "cell_type": "markdown",
   "metadata": {
    "slideshow": {
     "slide_type": "slide"
    }
   },
   "source": [
    "## Problem & Model Categories\n",
    "\n",
    "Recall our very general framing of the problem as\n",
    "\n",
    "$$Y = f(X) + \\epsilon.$$"
   ]
  },
  {
   "cell_type": "markdown",
   "metadata": {
    "slideshow": {
     "slide_type": "slide"
    }
   },
   "source": [
    "### Supervised vs. Unsupervised"
   ]
  },
  {
   "cell_type": "markdown",
   "metadata": {
    "slideshow": {
     "slide_type": "fragment"
    }
   },
   "source": [
    "- *Supervised*: for each observation $x_i$ there is an associated response $y_i$\n",
    "- *Unsupervised*: such an associated response is (for whatever reasons) not available (typically more challenging). "
   ]
  },
  {
   "cell_type": "markdown",
   "metadata": {
    "slideshow": {
     "slide_type": "subslide"
    }
   },
   "source": [
    "Possibles examples for (X, y) in a *supervised* setting:\n",
    "- $X$: picture, $Y$: object on that picture\n",
    "- $X$: tweet, $Y$: sentiment of that tweet\n",
    "- $X$: macro economic time series, $Y$: prediction of GDP next year\n",
    "- $X$: bank records of a client, $Y$: probability of default"
   ]
  },
  {
   "cell_type": "markdown",
   "metadata": {
    "slideshow": {
     "slide_type": "subslide"
    }
   },
   "source": [
    "Possible examples for X (and no $Y$) in an *unsupervised* setting:\n",
    "- $X$: (song, video, ...) play lists of users; understand user taste to make recommendations\n",
    "- $X$: document; identify similar documents\n",
    "- $X$: monitoring data on a production site; identify outliers to detect failures early\n",
    "- $X$: customer data; segment customers into different groups for e.g. marketing purposes"
   ]
  },
  {
   "cell_type": "markdown",
   "metadata": {
    "slideshow": {
     "slide_type": "slide"
    }
   },
   "source": [
    "### Regression vs. Classification"
   ]
  },
  {
   "cell_type": "markdown",
   "metadata": {
    "slideshow": {
     "slide_type": "fragment"
    }
   },
   "source": [
    "- Response variables $Y$ (or $y_i$) can be characterized as either *quantitative* or *qualitative* (or *categorical*).\n",
    "- A quantitative variable takes on numerical values whereas a qualitative variable assumes a value in one of K different *classes*."
   ]
  },
  {
   "cell_type": "markdown",
   "metadata": {
    "slideshow": {
     "slide_type": "fragment"
    }
   },
   "source": [
    "- *Regression*: quantitative response\n",
    "- *Classification*: qualitative response\n",
    "\n",
    "Note that quantitative variable can be categorized (quantized) if desirable."
   ]
  },
  {
   "cell_type": "markdown",
   "metadata": {
    "slideshow": {
     "slide_type": "subslide"
    }
   },
   "source": [
    "With regards to above examples we observe:\n",
    "- $Y$: object on that picture → qualitative → classification\n",
    "- $Y$: sentiment of that tweet → qualitative or quantitative → classification or regression\n",
    "- $Y$: prediction of GDP next year → quantitative → regression\n",
    "- $X$: $Y$: probability of default → quantitative → regression"
   ]
  },
  {
   "cell_type": "markdown",
   "metadata": {
    "slideshow": {
     "slide_type": "slide"
    }
   },
   "source": [
    "### Model Based vs. Instance based\n",
    "\n",
    "- *Instance* based: look up historical data\n",
    "- *Model* based: derive model from data"
   ]
  },
  {
   "cell_type": "markdown",
   "metadata": {
    "slideshow": {
     "slide_type": "slide"
    }
   },
   "source": [
    "## Assessing Model Accuracy\n",
    "\n",
    "> Which model works best?"
   ]
  },
  {
   "cell_type": "markdown",
   "metadata": {
    "slideshow": {
     "slide_type": "fragment"
    }
   },
   "source": [
    "*There is no free lunch in statistics*: no one method dominates all others over all possible data sets."
   ]
  },
  {
   "cell_type": "markdown",
   "metadata": {
    "slideshow": {
     "slide_type": "fragment"
    }
   },
   "source": [
    "Need a way to assess model performance to be able to compare different approaches."
   ]
  },
  {
   "cell_type": "markdown",
   "metadata": {},
   "source": [
    "### Measuring the Quality of Fit\n",
    "\n",
    "*Depending on the problem, other measures may be more appropriate!*"
   ]
  },
  {
   "cell_type": "markdown",
   "metadata": {},
   "source": [
    "#### Regression\n",
    "\n",
    "Mean squared error (MSE):\n",
    "\n",
    "$$\\textrm{MSE} = \\frac{1}{n} \\sum_{i=1}^{n} (y_i - \\hat{f}(x_i))^2.$$"
   ]
  },
  {
   "cell_type": "markdown",
   "metadata": {},
   "source": [
    "#### Classification\n",
    "\n",
    "Accuracy (error rate):\n",
    "\n",
    "\n",
    "$$\\frac{1}{n}\\sum_{i=1}^{n}\\textrm{I}(y_i \\neq \\hat{y}_i).$$\n",
    "\n",
    "\n",
    "(Proportion of mistakes that are made.)"
   ]
  },
  {
   "cell_type": "markdown",
   "metadata": {
    "slideshow": {
     "slide_type": "subslide"
    }
   },
   "source": [
    "#### Training vs. Test Error\n",
    "\n",
    "> Training error: Are we able to learn anything at all?\n",
    "\n",
    "> Test error: Does the model generalize? How good will it work on unseen data?"
   ]
  },
  {
   "cell_type": "markdown",
   "metadata": {
    "slideshow": {
     "slide_type": "subslide"
    }
   },
   "source": [
    "<a href=\"http://faculty.marshall.usc.edu/gareth-james/ISL/\">\n",
    "<img src=\"../images/isl/isl_2.9_train_vs_test_error.png\" alt=\"Train vs. Test Error\" width=800>\n",
    "</a>\n",
    "\n",
    "Test error in red, train error in blue."
   ]
  },
  {
   "cell_type": "markdown",
   "metadata": {
    "slideshow": {
     "slide_type": "subslide"
    }
   },
   "source": [
    "#### Cross-validation\n",
    "\n",
    "> Estimate test error by repeatedly fitting model on different subsets of the data\n"
   ]
  }
 ],
 "metadata": {
  "celltoolbar": "Slideshow",
  "kernelspec": {
   "display_name": "Python 3",
   "language": "python",
   "name": "python3"
  },
  "language_info": {
   "codemirror_mode": {
    "name": "ipython",
    "version": 3
   },
   "file_extension": ".py",
   "mimetype": "text/x-python",
   "name": "python",
   "nbconvert_exporter": "python",
   "pygments_lexer": "ipython3",
   "version": "3.8.5"
  },
  "toc": {
   "base_numbering": 1,
   "nav_menu": {},
   "number_sections": true,
   "sideBar": true,
   "skip_h1_title": true,
   "title_cell": "Table of Contents",
   "title_sidebar": "Contents",
   "toc_cell": false,
   "toc_position": {},
   "toc_section_display": true,
   "toc_window_display": false
  }
 },
 "nbformat": 4,
 "nbformat_minor": 2
}
